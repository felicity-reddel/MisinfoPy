{
 "cells": [
  {
   "cell_type": "markdown",
   "source": [
    "# Run the model, gather data"
   ],
   "metadata": {
    "collapsed": false,
    "pycharm": {
     "name": "#%% md\n"
    }
   }
  },
  {
   "cell_type": "code",
   "execution_count": 2,
   "outputs": [],
   "source": [
    "from misinfo_model import *\n",
    "from ema_workbench import (\n",
    "    RealParameter,\n",
    "    Model,\n",
    "    ScalarOutcome,\n",
    "    Constant,\n",
    "    perform_experiments\n",
    ")"
   ],
   "metadata": {
    "collapsed": false,
    "pycharm": {
     "name": "#%%\n"
    }
   }
  },
  {
   "cell_type": "code",
   "execution_count": null,
   "outputs": [],
   "source": [
    "# steps = 60\n",
    "# n_replications = 9\n"
   ],
   "metadata": {
    "collapsed": false,
    "pycharm": {
     "name": "#%%\n"
    }
   }
  },
  {
   "cell_type": "code",
   "execution_count": null,
   "outputs": [],
   "source": [
    "# n_agents = 50  # 1000\n",
    "# n_edges = 3\n",
    "#\n",
    "# # Scenarios are different agent_ratios\n",
    "# scenarios = [{NormalUser.__name__: 0.99, Disinformer.__name__: 0.01},\n",
    "#              # {NormalUser.__name__: 0.95, Disinformer.__name__: 0.05},\n",
    "#              # {NormalUser.__name__: 0.8, Disinformer.__name__: 0.2},\n",
    "#              # {NormalUser.__name__: 0.25, Disinformer.__name__: 0.75}\n",
    "#              ]\n",
    "#\n",
    "# # Experiment-Conditions are a combination of: Policy + BeliefUpdateFn\n",
    "# # Policies: Lever combinations\n",
    "# media_literacy_intervention_values = [(0.0, SelectAgentsBy.RANDOM),\n",
    "#                                       # (0.1, SelectAgentsBy.RANDOM),\n",
    "#                                       # (0.25, SelectAgentsBy.RANDOM)\n",
    "#                                       ]\n",
    "# ranking_visibility_adjustment_values = [-0.0]  # by default no ranking adjustment\n",
    "# p_true_threshold_deleting_values = [0.0, 0.5]  # by default no deleting\n",
    "# p_true_threshold_ranking_values = [0.0]  # by default no ranking\n",
    "# p_true_threshold_strikes_values = [0.0]  # by default no strike system\n",
    "#\n",
    "# policies = list(itertools.product(media_literacy_intervention_values,\n",
    "#                                   ranking_visibility_adjustment_values,\n",
    "#                                   p_true_threshold_deleting_values,\n",
    "#                                   p_true_threshold_ranking_values,\n",
    "#                                   p_true_threshold_strikes_values))\n",
    "#\n",
    "# # BeliefUpdateFns\n",
    "# belief_update_fn_values = list(BeliefUpdate)\n",
    "\n"
   ],
   "metadata": {
    "collapsed": false,
    "pycharm": {
     "name": "#%%\n"
    }
   }
  },
  {
   "cell_type": "code",
   "execution_count": null,
   "outputs": [],
   "source": [
    "levers = [RealParameter()]\n",
    "# Complicated like:\n",
    "#       - {NormalUser.__name__: 0.99, Disinformer.__name__: 0.01}       --> change to only have ratio_normaluser?\n",
    "#       - (0.0, SelectAgentsBy.RANDOM)                                  --> change to only have percentage (e.g., 0.0)\n",
    "\n",
    "\n",
    "uncertainties = []  # empty for now. OR here structural uncertainty? i.e., BeliefUpdateFns?\n",
    "\n",
    "constants = [Constant('')]  # n_agents, n_edges, steps, n_replications"
   ],
   "metadata": {
    "collapsed": false,
    "pycharm": {
     "name": "#%%\n"
    }
   }
  },
  {
   "cell_type": "code",
   "execution_count": null,
   "outputs": [],
   "source": [
    "model = MisinfoPy(\n",
    "    n_agents=n_agents,\n",
    "    n_edges=n_edges,\n",
    "    agent_ratio=agent_ratio,\n",
    "    media_literacy_intervention=media_literacy_intervention,\n",
    "    ranking_visibility_adjustment=ranking_visibility_adjustment,\n",
    "    p_true_threshold_deleting=p_true_threshold_deleting,\n",
    "    p_true_threshold_ranking=p_true_threshold_ranking,\n",
    "    p_true_threshold_strikes=p_true_threshold_strikes,\n",
    "    belief_update_fn=belief_update_fn,\n",
    "    sampling_p_update=sampling_p_update,\n",
    "    deffuant_mu=deffuant_mu\n",
    ")\n",
    "n_steps = 60\n",
    "\n",
    "model.run(steps=n_steps, debug=True)"
   ],
   "metadata": {
    "collapsed": false,
    "pycharm": {
     "name": "#%%\n"
    }
   }
  },
  {
   "cell_type": "code",
   "execution_count": null,
   "metadata": {
    "collapsed": true,
    "pycharm": {
     "name": "#%%\n"
    }
   },
   "outputs": [],
   "source": [
    "root_dir = os.path.abspath(os.curdir)  # Doesn't work as intended. Needs fix below.\n",
    "root_dir = root_dir[:-9]\n",
    "results_dir = root_dir + \"results/\"\n",
    "# file_name =\n",
    "file_dir = results_dir + file_name\n",
    "\n",
    "data = pd.read_csv(file_dir)\n"
   ]
  }
 ],
 "metadata": {
  "kernelspec": {
   "display_name": "Python 3",
   "language": "python",
   "name": "python3"
  },
  "language_info": {
   "codemirror_mode": {
    "name": "ipython",
    "version": 2
   },
   "file_extension": ".py",
   "mimetype": "text/x-python",
   "name": "python",
   "nbconvert_exporter": "python",
   "pygments_lexer": "ipython2",
   "version": "2.7.6"
  }
 },
 "nbformat": 4,
 "nbformat_minor": 0
}