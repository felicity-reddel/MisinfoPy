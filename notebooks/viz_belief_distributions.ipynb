{
 "cells": [
  {
   "cell_type": "code",
   "execution_count": 1,
   "metadata": {
    "collapsed": true,
    "pycharm": {
     "name": "#%%\n"
    }
   },
   "outputs": [],
   "source": [
    "import random\n",
    "\n",
    "import pandas as pd\n",
    "import os\n",
    "import seaborn as sns\n",
    "import numpy as np\n",
    "from matplotlib import pyplot as plt\n",
    "from matplotlib.offsetbox import AnchoredText\n",
    "from matplotlib.ticker import MaxNLocator\n"
   ]
  },
  {
   "cell_type": "markdown",
   "source": [
    "### Loading data\n"
   ],
   "metadata": {
    "collapsed": false,
    "pycharm": {
     "name": "#%% md\n"
    }
   }
  },
  {
   "cell_type": "code",
   "execution_count": 2,
   "outputs": [],
   "source": [
    "root_dir = os.path.abspath(os.curdir)  # Doesn't work as intended. Needs fix below.\n",
    "root_dir = root_dir[:-9]\n",
    "results_dir = root_dir + \"results/\"\n",
    "# file_name = \"belief_distributions_before_after.csv\"\n",
    "# file_name = \"belief_distr_{'NormalUser': 1.0, 'Disinformer': 0.0}.csv\"    # tiny experiment to see whether roughly makes sense?\n",
    "file_name = \"belief_distr_{'NormalUser': 0.99, 'Disinformer': 0.01}.csv\"  # Actual experiment condition\n",
    "# file_name = \"belief_distr_{'NormalUser': 0.8, 'Disinformer': 0.2}.csv\"      # Ratio validation\n",
    "# file_name = \"belief_distr_{'NormalUser': 0.95, 'Disinformer': 0.05}.csv\"\n",
    "# file_name = \"validation_n_agents.csv\"\n",
    "\n",
    "file_dir = results_dir + file_name\n",
    "\n",
    "data = pd.read_csv(file_dir)\n"
   ],
   "metadata": {
    "collapsed": false,
    "pycharm": {
     "name": "#%%\n"
    }
   }
  },
  {
   "cell_type": "code",
   "execution_count": 3,
   "outputs": [
    {
     "data": {
      "text/plain": "   Unnamed: 0  Replication  \\\n0           0            0   \n1           1            1   \n2           2            2   \n\n  ((0.0, <SelectAgentsBy.RANDOM: 0>), -0.0, -0.1, -0.1, -0.1, <BeliefUpdate.SAMPLE: 0>)  \\\n0  ([44, 94, 80, 34, 68, 31, 32, 11, 8, 27, 35, 4...                                      \n1  ([18, 87, 25, 19, 82, 33, 47, 98, 63, 4, 27, 1...                                      \n2  ([56, 51, 69, 58, 70, 21, 19, 37, 92, 16, 0, 9...                                      \n\n  ((0.0, <SelectAgentsBy.RANDOM: 0>), -0.0, -0.1, -0.1, -0.1, <BeliefUpdate.DEFFUANT: 1>)  \\\n0  ([50, 79, 98, 99, 28, 67, 14, 62, 48, 52, 55, ...                                        \n1  ([57, 32, 14, 92, 85, 53, 0, 67, 18, 13, 100, ...                                        \n2  ([82, 18, 60, 27, 50, 65, 83, 38, 6, 67, 32, 2...                                        \n\n  ((0.0, <SelectAgentsBy.RANDOM: 0>), -0.0, -0.1, -0.1, -0.1, <BeliefUpdate.SIT: 2>)  \n0  ([45, 82, 17, 88, 63, 10, 60, 66, 48, 52, 55, ...                                  \n1  ([73, 79, 52, 58, 43, 1, 85, 31, 16, 26, 9, 78...                                  \n2  ([47, 33, 7, 19, 98, 71, 71, 1, 85, 7, 24, 7, ...                                  ",
      "text/html": "<div>\n<style scoped>\n    .dataframe tbody tr th:only-of-type {\n        vertical-align: middle;\n    }\n\n    .dataframe tbody tr th {\n        vertical-align: top;\n    }\n\n    .dataframe thead th {\n        text-align: right;\n    }\n</style>\n<table border=\"1\" class=\"dataframe\">\n  <thead>\n    <tr style=\"text-align: right;\">\n      <th></th>\n      <th>Unnamed: 0</th>\n      <th>Replication</th>\n      <th>((0.0, &lt;SelectAgentsBy.RANDOM: 0&gt;), -0.0, -0.1, -0.1, -0.1, &lt;BeliefUpdate.SAMPLE: 0&gt;)</th>\n      <th>((0.0, &lt;SelectAgentsBy.RANDOM: 0&gt;), -0.0, -0.1, -0.1, -0.1, &lt;BeliefUpdate.DEFFUANT: 1&gt;)</th>\n      <th>((0.0, &lt;SelectAgentsBy.RANDOM: 0&gt;), -0.0, -0.1, -0.1, -0.1, &lt;BeliefUpdate.SIT: 2&gt;)</th>\n    </tr>\n  </thead>\n  <tbody>\n    <tr>\n      <th>0</th>\n      <td>0</td>\n      <td>0</td>\n      <td>([44, 94, 80, 34, 68, 31, 32, 11, 8, 27, 35, 4...</td>\n      <td>([50, 79, 98, 99, 28, 67, 14, 62, 48, 52, 55, ...</td>\n      <td>([45, 82, 17, 88, 63, 10, 60, 66, 48, 52, 55, ...</td>\n    </tr>\n    <tr>\n      <th>1</th>\n      <td>1</td>\n      <td>1</td>\n      <td>([18, 87, 25, 19, 82, 33, 47, 98, 63, 4, 27, 1...</td>\n      <td>([57, 32, 14, 92, 85, 53, 0, 67, 18, 13, 100, ...</td>\n      <td>([73, 79, 52, 58, 43, 1, 85, 31, 16, 26, 9, 78...</td>\n    </tr>\n    <tr>\n      <th>2</th>\n      <td>2</td>\n      <td>2</td>\n      <td>([56, 51, 69, 58, 70, 21, 19, 37, 92, 16, 0, 9...</td>\n      <td>([82, 18, 60, 27, 50, 65, 83, 38, 6, 67, 32, 2...</td>\n      <td>([47, 33, 7, 19, 98, 71, 71, 1, 85, 7, 24, 7, ...</td>\n    </tr>\n  </tbody>\n</table>\n</div>"
     },
     "execution_count": 3,
     "metadata": {},
     "output_type": "execute_result"
    }
   ],
   "source": [
    "data.head(5)\n"
   ],
   "metadata": {
    "collapsed": false,
    "pycharm": {
     "name": "#%%\n"
    }
   }
  },
  {
   "cell_type": "markdown",
   "source": [
    "### Reshaping data"
   ],
   "metadata": {
    "collapsed": false,
    "pycharm": {
     "name": "#%% md\n"
    }
   }
  },
  {
   "cell_type": "code",
   "execution_count": 4,
   "outputs": [
    {
     "data": {
      "text/plain": "  ((0.0, <SelectAgentsBy.RANDOM: 0>), -0.0, -0.1, -0.1, -0.1, <BeliefUpdate.SAMPLE: 0>)  \\\n0  ([44, 94, 80, 34, 68, 31, 32, 11, 8, 27, 35, 4...                                      \n1  ([18, 87, 25, 19, 82, 33, 47, 98, 63, 4, 27, 1...                                      \n2  ([56, 51, 69, 58, 70, 21, 19, 37, 92, 16, 0, 9...                                      \n\n  ((0.0, <SelectAgentsBy.RANDOM: 0>), -0.0, -0.1, -0.1, -0.1, <BeliefUpdate.DEFFUANT: 1>)  \\\n0  ([50, 79, 98, 99, 28, 67, 14, 62, 48, 52, 55, ...                                        \n1  ([57, 32, 14, 92, 85, 53, 0, 67, 18, 13, 100, ...                                        \n2  ([82, 18, 60, 27, 50, 65, 83, 38, 6, 67, 32, 2...                                        \n\n  ((0.0, <SelectAgentsBy.RANDOM: 0>), -0.0, -0.1, -0.1, -0.1, <BeliefUpdate.SIT: 2>)  \n0  ([45, 82, 17, 88, 63, 10, 60, 66, 48, 52, 55, ...                                  \n1  ([73, 79, 52, 58, 43, 1, 85, 31, 16, 26, 9, 78...                                  \n2  ([47, 33, 7, 19, 98, 71, 71, 1, 85, 7, 24, 7, ...                                  ",
      "text/html": "<div>\n<style scoped>\n    .dataframe tbody tr th:only-of-type {\n        vertical-align: middle;\n    }\n\n    .dataframe tbody tr th {\n        vertical-align: top;\n    }\n\n    .dataframe thead th {\n        text-align: right;\n    }\n</style>\n<table border=\"1\" class=\"dataframe\">\n  <thead>\n    <tr style=\"text-align: right;\">\n      <th></th>\n      <th>((0.0, &lt;SelectAgentsBy.RANDOM: 0&gt;), -0.0, -0.1, -0.1, -0.1, &lt;BeliefUpdate.SAMPLE: 0&gt;)</th>\n      <th>((0.0, &lt;SelectAgentsBy.RANDOM: 0&gt;), -0.0, -0.1, -0.1, -0.1, &lt;BeliefUpdate.DEFFUANT: 1&gt;)</th>\n      <th>((0.0, &lt;SelectAgentsBy.RANDOM: 0&gt;), -0.0, -0.1, -0.1, -0.1, &lt;BeliefUpdate.SIT: 2&gt;)</th>\n    </tr>\n  </thead>\n  <tbody>\n    <tr>\n      <th>0</th>\n      <td>([44, 94, 80, 34, 68, 31, 32, 11, 8, 27, 35, 4...</td>\n      <td>([50, 79, 98, 99, 28, 67, 14, 62, 48, 52, 55, ...</td>\n      <td>([45, 82, 17, 88, 63, 10, 60, 66, 48, 52, 55, ...</td>\n    </tr>\n    <tr>\n      <th>1</th>\n      <td>([18, 87, 25, 19, 82, 33, 47, 98, 63, 4, 27, 1...</td>\n      <td>([57, 32, 14, 92, 85, 53, 0, 67, 18, 13, 100, ...</td>\n      <td>([73, 79, 52, 58, 43, 1, 85, 31, 16, 26, 9, 78...</td>\n    </tr>\n    <tr>\n      <th>2</th>\n      <td>([56, 51, 69, 58, 70, 21, 19, 37, 92, 16, 0, 9...</td>\n      <td>([82, 18, 60, 27, 50, 65, 83, 38, 6, 67, 32, 2...</td>\n      <td>([47, 33, 7, 19, 98, 71, 71, 1, 85, 7, 24, 7, ...</td>\n    </tr>\n  </tbody>\n</table>\n</div>"
     },
     "execution_count": 4,
     "metadata": {},
     "output_type": "execute_result"
    }
   ],
   "source": [
    "# data.rename({\"Unnamed: 0\":\"a\"}, axis=\"columns\", inplace=True)\n",
    "# data.rename({\"Unnamed: 0\":\"a\", \"((0.0, <SelectAgentsBy.RANDOM: 0>), False)\":\"0_MLI_0_R\"}, axis=\"columns\", inplace=True)  # Validation\n",
    "data.drop([\"Unnamed: 0\", \"Replication\"], axis=1, inplace=True)\n",
    "data.head(5)"
   ],
   "metadata": {
    "collapsed": false,
    "pycharm": {
     "name": "#%%\n"
    }
   }
  },
  {
   "cell_type": "code",
   "execution_count": 5,
   "outputs": [],
   "source": [
    "# Rename columns\n",
    "# column_names = [\"0%_True\", \"0%_False\",\"0%_True\", \"0%_False\",\"0%_True\", \"0%_False\",\"0%_True\", \"0%_False\",]\n",
    "# data.rename({\"((0.0, <SelectAgentsBy.RANDOM: 0>), True)\":\"0%,\\nR\",\n",
    "#              \"((0.0, <SelectAgentsBy.RANDOM: 0>), False)\":\"0%,\\n–\",\n",
    "#              \"((0.1, <SelectAgentsBy.RANDOM: 0>), True)\":\"10%,\\nR\",\n",
    "#              \"((0.1, <SelectAgentsBy.RANDOM: 0>), False)\":\"10%,\\n–\",\n",
    "#              \"((0.25, <SelectAgentsBy.RANDOM: 0>), True)\":\"25%,\\nR\",\n",
    "#              \"((0.25, <SelectAgentsBy.RANDOM: 0>), False)\":\"25%,\\n–\",\n",
    "#              # \"((0.9, <SelectAgentsBy.RANDOM: 0>), True)\":\"90%,\\nR\",\n",
    "#              # \"((0.9, <SelectAgentsBy.RANDOM: 0>), False)\":\"90%,\\n–\"\n",
    "#              }, axis=\"columns\", inplace=True)\n",
    "\n",
    "# For Ratio-Validation:\n",
    "# data.rename({\"((0.0, <SelectAgentsBy.RANDOM: 0>), False)\":\"0_MLI_0_R\"})"
   ],
   "metadata": {
    "collapsed": false,
    "pycharm": {
     "name": "#%%\n"
    }
   }
  },
  {
   "cell_type": "code",
   "execution_count": null,
   "outputs": [],
   "source": [
    "# Switch Columns (first w/o ranking, then w/ranking)\n",
    "# data = data[[\"0%,\\n–\", \"0%,\\nR\",\n",
    "#              \"10%,\\n–\", \"10%,\\nR\",\n",
    "#              \"25%,\\n–\", \"25%,\\nR\",\n",
    "#              # \"90%,\\n–\", \"90%,\\nR\",\n",
    "#              ]]\n",
    "\n",
    "data.head(5)\n"
   ],
   "metadata": {
    "collapsed": false,
    "pycharm": {
     "name": "#%%\n"
    }
   }
  },
  {
   "cell_type": "markdown",
   "source": [
    "### Histogram\n"
   ],
   "metadata": {
    "collapsed": false,
    "pycharm": {
     "name": "#%% md\n"
    }
   }
  },
  {
   "cell_type": "code",
   "execution_count": 6,
   "outputs": [],
   "source": [
    "# Overview of the agents' belief distribution at the end\n",
    "# for policy in data.columns:\n",
    "policies = data.columns\n",
    "policy_nr = 0\n",
    "\n",
    "policy_data = data.iloc[:,policy_nr]  # [0]"
   ],
   "metadata": {
    "collapsed": false,
    "pycharm": {
     "name": "#%%\n"
    }
   }
  },
  {
   "cell_type": "code",
   "execution_count": 7,
   "outputs": [],
   "source": [
    "def convert(string):\n",
    "    \"\"\"\n",
    "    Converts the String of each cell within the dataframe into two lists of agent beliefs\n",
    "    (before and after the run)\n",
    "    @:param string: String, the entry of one cell, i.e., \"([beliefs_before], [beliefs_after])\" of 1 policy & 1 run\n",
    "    :return before: list of floats, each in domain [0,100]\n",
    "    :return after: list of floats, each in domain [0,100]\n",
    "    \"\"\"\n",
    "    # remove tuple parentheses\n",
    "    string = string[2:-2]\n",
    "\n",
    "    # split before <> after\n",
    "    before, after = list(string.split(\"], [\"))\n",
    "\n",
    "    # convert from string to lists\n",
    "    before = list(before.split(\", \"))\n",
    "    after = list(after.split(\", \"))\n",
    "\n",
    "    # convert individual values from String to float\n",
    "    before = [float(s) for s in before]\n",
    "    after = [float(s) for s in after]\n",
    "\n",
    "    return before, after"
   ],
   "metadata": {
    "collapsed": false,
    "pycharm": {
     "name": "#%%\n"
    }
   }
  },
  {
   "cell_type": "markdown",
   "source": [
    "## Preparing the lists (before & after)"
   ],
   "metadata": {
    "collapsed": false,
    "pycharm": {
     "name": "#%% md\n"
    }
   }
  },
  {
   "cell_type": "code",
   "execution_count": 8,
   "outputs": [],
   "source": [
    "# Pick result cell & get its data\n",
    "run_id = 0\n",
    "policy_nr = 0\n",
    "\n",
    "policy_i = data.iloc[:,policy_nr]\n",
    "replication = policy_i[run_id]\n",
    "before, after = convert(replication)\n"
   ],
   "metadata": {
    "collapsed": false,
    "pycharm": {
     "name": "#%%\n"
    }
   }
  },
  {
   "cell_type": "markdown",
   "source": [
    "# Plotting"
   ],
   "metadata": {
    "collapsed": false,
    "pycharm": {
     "name": "#%% md\n"
    }
   }
  },
  {
   "cell_type": "code",
   "execution_count": 9,
   "outputs": [
    {
     "data": {
      "text/plain": "<Figure size 720x576 with 1 Axes>",
      "image/png": "[encoded data removed]"
     },
     "metadata": {},
     "output_type": "display_data"
    }
   ],
   "source": [
    "# 1 Histogram\n",
    "\n",
    "sns.set(style=\"darkgrid\", rc={'figure.figsize':(10, 8)})\n",
    "\n",
    "sns.histplot(data=before, color=\"skyblue\", label=\"Before\", kde=True, bins=25, binrange=(0,100))\n",
    "sns.histplot(data=after, color=\"red\", label=\"After\", kde=True, bins=25, binrange=(0,100))\n",
    "\n",
    "plt.legend(fontsize='x-large')\n",
    "plt.xlabel(\"Belief that vaccines are good\", fontsize=15)\n",
    "plt.ylabel(\"Agent count\", fontsize=15)\n",
    "# plt.title(\"Beliefs Before and After\", fontsize=22)\n",
    "\n",
    "directory = os.getcwd()\n",
    "root_directory = os.path.dirname(directory)\n",
    "visualization_folder = root_directory + '/results/images/'\n",
    "plt.savefig(visualization_folder + f\"validation_media_literacy.png\", dpi=200, bbox_inches=\"tight\", pad_inches=0.1)\n",
    "\n",
    "plt.show()"
   ],
   "metadata": {
    "collapsed": false,
    "pycharm": {
     "name": "#%%\n"
    }
   }
  },
  {
   "cell_type": "code",
   "execution_count": 10,
   "outputs": [],
   "source": [
    "def create_title(policy):\n",
    "    interventions = policy.split(\",\\n\")\n",
    "    media_lit = interventions[0] + \" Media Literacy intervention,\\n\"\n",
    "\n",
    "    if interventions[1] == \"R\":\n",
    "        ranking = \"Ranking Intervention\"\n",
    "    else:\n",
    "        ranking = \"Conventional Ranking\"\n",
    "\n",
    "    title = media_lit + ranking\n",
    "    return title\n"
   ],
   "metadata": {
    "collapsed": false,
    "pycharm": {
     "name": "#%%\n"
    }
   }
  },
  {
   "cell_type": "markdown",
   "source": [
    "# Subplots"
   ],
   "metadata": {
    "collapsed": false,
    "pycharm": {
     "name": "#%% md\n"
    }
   }
  },
  {
   "cell_type": "code",
   "execution_count": 11,
   "outputs": [],
   "source": [
    "def create_subplot(df, policy_name='0%,\\n–', n_rows=3, n_cols=3, saving=False,  title=False, x_ticks=5, y_ticks=5):\n",
    "    \"\"\"\n",
    "    Create and potentially save a subplot of the requested policy and number of subplots (via nrows & ncols).\n",
    "    :param saving:\n",
    "    :param n_cols:\n",
    "    :param n_rows:\n",
    "    :param df:\n",
    "    :param policy_name:\n",
    "    :param nrows:\n",
    "    :param ncols:\n",
    "    :return:\n",
    "    \"\"\"\n",
    "    # Get data of the requested policy\n",
    "    policy_i = df[[policy_name]]\n",
    "\n",
    "    # Sample depicted runs\n",
    "    n_runs = len(policy_i)\n",
    "    run_ids = random.choices(range(n_runs), k=n_rows*n_cols)\n",
    "\n",
    "    # Convert & Join data\n",
    "    subplot_data = {}\n",
    "    for id in run_ids:\n",
    "        run_data = policy_i.iloc[id, 0]\n",
    "        before, after = convert(run_data)\n",
    "        subplot_data[id] = (before, after)\n",
    "\n",
    "    fig, axes = plt.subplots(nrows=n_rows, ncols=n_cols, sharex=\"all\", sharey=\"all\", figsize=(10.8, 8))\n",
    "    ids = list(subplot_data.keys())\n",
    "\n",
    "    # Create subplots\n",
    "    for row in range(n_rows):\n",
    "        for col in range(n_cols):\n",
    "\n",
    "            # Plot 1 hist (incl. before & after)\n",
    "            id = ids.pop()\n",
    "            data = subplot_data[id]\n",
    "            before, after = data\n",
    "            sns.histplot(data=before, color=\"skyblue\", label=\"Before\", kde=True, bins=25, binrange=(0,100), ax=axes[row, col])\n",
    "            sns.histplot(data=after, color=\"red\", label=\"After\", kde=True, bins=25, binrange=(0,100), ax=axes[row, col])\n",
    "\n",
    "            # Depict information (labels etc)\n",
    "            # - replication number\n",
    "            anc = AnchoredText(f'Run {id}', loc=\"upper center\", frameon=False)\n",
    "            axes[row, col].add_artist(anc)\n",
    "\n",
    "            # - y axis\n",
    "            if col == 0:\n",
    "                axes[row, col].set_ylabel(\"Agent count\")\n",
    "                axes[row, col].yaxis.set_major_locator(MaxNLocator(y_ticks))\n",
    "            # - x axis\n",
    "            if row == n_rows-1:\n",
    "                axes[row, col].set_xlabel(\"Belief that vaccines are good\")\n",
    "                axes[row, col].xaxis.set_major_locator(MaxNLocator(x_ticks))\n",
    "            # - legend\n",
    "            if row == 0 and col == n_cols-1:\n",
    "                axes[row, col].legend(fontsize='large', bbox_to_anchor=(1.05, 1), loc='upper left', borderaxespad=0)\n",
    "\n",
    "    if title:\n",
    "        plt.suptitle(f\"Policy:\\n {create_title(policy_name)}\", fontsize='x-large')\n",
    "\n",
    "    if saving:\n",
    "        directory = os.getcwd()\n",
    "        root_directory = os.path.dirname(directory)\n",
    "        visualization_folder = root_directory + '/results/images/'\n",
    "        # fig.savefig(visualization_folder + f\"belief_distributions_{policy_name}.png\", dpi=200, bbox_inches=\"tight\", pad_inches=0.1)\n",
    "        fig.savefig(visualization_folder + f\"5000_agents_belief_distributions_{policy_name}.png\", dpi=200, bbox_inches=\"tight\", pad_inches=0.1)"
   ],
   "metadata": {
    "collapsed": false,
    "pycharm": {
     "name": "#%%\n"
    }
   }
  },
  {
   "cell_type": "code",
   "execution_count": 12,
   "outputs": [
    {
     "ename": "IndexError",
     "evalue": "pop from empty list",
     "output_type": "error",
     "traceback": [
      "\u001B[0;31m---------------------------------------------------------------------------\u001B[0m",
      "\u001B[0;31mIndexError\u001B[0m                                Traceback (most recent call last)",
      "Input \u001B[0;32mIn [12]\u001B[0m, in \u001B[0;36m<module>\u001B[0;34m\u001B[0m\n\u001B[1;32m      1\u001B[0m \u001B[38;5;66;03m# Create 1 figure for each policy\u001B[39;00m\n\u001B[1;32m      2\u001B[0m \u001B[38;5;28;01mfor\u001B[39;00m p \u001B[38;5;129;01min\u001B[39;00m policies:\n\u001B[0;32m----> 3\u001B[0m     \u001B[43mcreate_subplot\u001B[49m\u001B[43m(\u001B[49m\u001B[43mdata\u001B[49m\u001B[43m,\u001B[49m\u001B[43m \u001B[49m\u001B[43mpolicy_name\u001B[49m\u001B[38;5;241;43m=\u001B[39;49m\u001B[43mp\u001B[49m\u001B[43m,\u001B[49m\u001B[43m \u001B[49m\u001B[43mtitle\u001B[49m\u001B[38;5;241;43m=\u001B[39;49m\u001B[38;5;28;43;01mFalse\u001B[39;49;00m\u001B[43m,\u001B[49m\u001B[43m \u001B[49m\u001B[43msaving\u001B[49m\u001B[38;5;241;43m=\u001B[39;49m\u001B[38;5;28;43;01mTrue\u001B[39;49;00m\u001B[43m,\u001B[49m\u001B[43m \u001B[49m\u001B[43mn_rows\u001B[49m\u001B[38;5;241;43m=\u001B[39;49m\u001B[38;5;241;43m3\u001B[39;49m\u001B[43m,\u001B[49m\u001B[43m \u001B[49m\u001B[43mn_cols\u001B[49m\u001B[38;5;241;43m=\u001B[39;49m\u001B[38;5;241;43m3\u001B[39;49m\u001B[43m)\u001B[49m\n",
      "Input \u001B[0;32mIn [11]\u001B[0m, in \u001B[0;36mcreate_subplot\u001B[0;34m(df, policy_name, n_rows, n_cols, saving, title, x_ticks, y_ticks)\u001B[0m\n\u001B[1;32m     31\u001B[0m \u001B[38;5;28;01mfor\u001B[39;00m row \u001B[38;5;129;01min\u001B[39;00m \u001B[38;5;28mrange\u001B[39m(n_rows):\n\u001B[1;32m     32\u001B[0m     \u001B[38;5;28;01mfor\u001B[39;00m col \u001B[38;5;129;01min\u001B[39;00m \u001B[38;5;28mrange\u001B[39m(n_cols):\n\u001B[1;32m     33\u001B[0m \n\u001B[1;32m     34\u001B[0m         \u001B[38;5;66;03m# Plot 1 hist (incl. before & after)\u001B[39;00m\n\u001B[0;32m---> 35\u001B[0m         \u001B[38;5;28mid\u001B[39m \u001B[38;5;241m=\u001B[39m \u001B[43mids\u001B[49m\u001B[38;5;241;43m.\u001B[39;49m\u001B[43mpop\u001B[49m\u001B[43m(\u001B[49m\u001B[43m)\u001B[49m\n\u001B[1;32m     36\u001B[0m         data \u001B[38;5;241m=\u001B[39m subplot_data[\u001B[38;5;28mid\u001B[39m]\n\u001B[1;32m     37\u001B[0m         before, after \u001B[38;5;241m=\u001B[39m data\n",
      "\u001B[0;31mIndexError\u001B[0m: pop from empty list"
     ]
    },
    {
     "data": {
      "text/plain": "<Figure size 777.6x576 with 9 Axes>",
      "image/png": "[encoded data removed]"
     },
     "metadata": {},
     "output_type": "display_data"
    }
   ],
   "source": [
    "# Create 1 figure for each policy\n",
    "for p in policies:\n",
    "    create_subplot(data, policy_name=p, title=False, saving=True, n_rows=3, n_cols=3)\n"
   ],
   "metadata": {
    "collapsed": false,
    "pycharm": {
     "name": "#%%\n"
    }
   }
  },
  {
   "cell_type": "code",
   "execution_count": null,
   "outputs": [],
   "source": [
    "# Create data for avg histogram over policy\n",
    "\n",
    "# Create subplot figure of averages over 50 runs"
   ],
   "metadata": {
    "collapsed": false,
    "pycharm": {
     "name": "#%%\n"
    }
   }
  }
 ],
 "metadata": {
  "kernelspec": {
   "display_name": "Python 3",
   "language": "python",
   "name": "python3"
  },
  "language_info": {
   "codemirror_mode": {
    "name": "ipython",
    "version": 2
   },
   "file_extension": ".py",
   "mimetype": "text/x-python",
   "name": "python",
   "nbconvert_exporter": "python",
   "pygments_lexer": "ipython2",
   "version": "2.7.6"
  }
 },
 "nbformat": 4,
 "nbformat_minor": 0
}