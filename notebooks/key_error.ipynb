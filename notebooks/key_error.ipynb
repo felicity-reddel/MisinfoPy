{
 "cells": [
  {
   "cell_type": "markdown",
   "source": [
    "# KeyError\n"
   ],
   "metadata": {
    "collapsed": false,
    "pycharm": {
     "name": "#%% md\n"
    }
   }
  },
  {
   "cell_type": "code",
   "execution_count": 1,
   "outputs": [],
   "source": [
    "import pandas as pd\n",
    "\n",
    "from misinfo_model import MisinfoPy\n",
    "from perform_experiments import perform_my_experiments"
   ],
   "metadata": {
    "collapsed": false,
    "pycharm": {
     "name": "#%%\n"
    }
   }
  },
  {
   "cell_type": "markdown",
   "source": [
    "`perform_my_experiments` sets up the model and uses the model (incl. its `__call__()` function) for a multi-processing evaluator (for `evaluator.perform_experiments()`).\n",
    "\n",
    "In the end of the model's `__call__()` function, I added a `print(results_dict)` statement. The results from this are reasonable and can be seen below."
   ],
   "metadata": {
    "collapsed": false,
    "pycharm": {
     "name": "#%% md\n"
    }
   }
  },
  {
   "cell_type": "code",
   "execution_count": 6,
   "outputs": [
    {
     "name": "stderr",
     "output_type": "stream",
     "text": [
      "[MainProcess/INFO] pool started with 8 workers\n",
      "[MainProcess/INFO] performing 1 scenarios * 3 policies * 1 model(s) = 3 experiments\n",
      " 33%|██████████████▋                             | 1/3 [00:04<00:09,  4.75s/it]Traceback (most recent call last):\n",
      "  File \"/Library/Frameworks/Python.framework/Versions/3.10/lib/python3.10/site-packages/ema_workbench/em_framework/callbacks.py\", line 244, in _store_outcomes\n",
      "    self.results[outcome][case_id,] = outcome_res\n",
      "KeyError: 'n_agents_above_belief_threshold'\n",
      "\n",
      "During handling of the above exception, another exception occurred:\n",
      "\n",
      "Traceback (most recent call last):\n",
      "  File \"/Library/Frameworks/Python.framework/Versions/3.10/lib/python3.10/site-packages/ema_workbench/em_framework/ema_multiprocessing.py\", line 253, in run\n",
      "    self.callback(*result.get())\n",
      "  File \"/Library/Frameworks/Python.framework/Versions/3.10/lib/python3.10/site-packages/ema_workbench/em_framework/callbacks.py\", line 279, in __call__\n",
      "    self._store_outcomes(experiment.experiment_id, outcomes)\n",
      "  File \"/Library/Frameworks/Python.framework/Versions/3.10/lib/python3.10/site-packages/ema_workbench/em_framework/callbacks.py\", line 258, in _store_outcomes\n",
      "    self.results[outcome][:] = np.nan\n",
      "ValueError: cannot convert float NaN to integer\n",
      "Traceback (most recent call last):\n",
      "  File \"/Library/Frameworks/Python.framework/Versions/3.10/lib/python3.10/site-packages/ema_workbench/em_framework/callbacks.py\", line 244, in _store_outcomes\n",
      "    self.results[outcome][case_id,] = outcome_res\n",
      "KeyError: 'engagement'\n",
      "\n",
      "During handling of the above exception, another exception occurred:\n",
      "\n",
      "Traceback (most recent call last):\n",
      "  File \"/Library/Frameworks/Python.framework/Versions/3.10/lib/python3.10/site-packages/ema_workbench/em_framework/ema_multiprocessing.py\", line 253, in run\n",
      "    self.callback(*result.get())\n",
      "  File \"/Library/Frameworks/Python.framework/Versions/3.10/lib/python3.10/site-packages/ema_workbench/em_framework/callbacks.py\", line 279, in __call__\n",
      "    self._store_outcomes(experiment.experiment_id, outcomes)\n",
      "  File \"/Library/Frameworks/Python.framework/Versions/3.10/lib/python3.10/site-packages/ema_workbench/em_framework/callbacks.py\", line 258, in _store_outcomes\n",
      "    self.results[outcome][:] = np.nan\n",
      "ValueError: cannot convert float NaN to integer\n",
      "100%|████████████████████████████████████████████| 3/3 [00:04<00:00,  1.59s/it]\n",
      "[MainProcess/INFO] experiments finished\n",
      "[MainProcess/INFO] terminating pool\n"
     ]
    },
    {
     "name": "stdout",
     "output_type": "stream",
     "text": [
      "\n",
      "n_agents_above_belief_threshold                53.000000\n",
      "polarization_variance                        1076.460000\n",
      "polarization_kl_divergence_from_polarized       2.350000\n",
      "engagement                                   4122.000000\n",
      "free_speech_constraint                          0.585233\n",
      "avg_user_effort                                 6.350000\n",
      "dtype: float64\n",
      "\n",
      "n_agents_above_belief_threshold                55.000000\n",
      "polarization_variance                         880.610000\n",
      "polarization_kl_divergence_from_polarized       2.690000\n",
      "engagement                                   4602.000000\n",
      "free_speech_constraint                          0.267489\n",
      "avg_user_effort                                 6.280000\n",
      "dtype: float64\n",
      "\n",
      "n_agents_above_belief_threshold                71.000000\n",
      "polarization_variance                         890.310000\n",
      "polarization_kl_divergence_from_polarized       2.550000\n",
      "engagement                                   5336.000000\n",
      "free_speech_constraint                          0.404159\n",
      "avg_user_effort                                 7.610000\n",
      "dtype: float64\n"
     ]
    }
   ],
   "source": [
    "results = perform_my_experiments(n_agents=100, n_scenarios=1, n_policies=3)\n",
    "experiments, outcomes = results\n",
    "outcomes = pd.DataFrame(outcomes)"
   ],
   "metadata": {
    "collapsed": false,
    "pycharm": {
     "name": "#%%\n"
    }
   }
  },
  {
   "cell_type": "markdown",
   "source": [
    "However, the results returned by the `evaluator.perform_experiments()` function include some surprises. In the results of the first two runs, there are some `Nan` values, and some surprisingly high values (e.g., 4e+09 agents above the belief-threshold, when there are in total only 100 agents in the model):"
   ],
   "metadata": {
    "collapsed": false,
    "pycharm": {
     "name": "#%% md\n"
    }
   }
  },
  {
   "cell_type": "code",
   "execution_count": 7,
   "outputs": [
    {
     "name": "stdout",
     "output_type": "stream",
     "text": [
      "\n",
      "\n",
      " ----------------------------------------> Surprises below: <---------------------------------------- \n",
      "\n",
      "n_agents_above_belief_threshold    0.000000e+00\n",
      "polarization_variance                       NaN\n",
      "engagement                         9.221120e+18\n",
      "free_speech_constraint                      NaN\n",
      "avg_user_effort                             NaN\n",
      "Name: 0, dtype: float64\n",
      "\n",
      "n_agents_above_belief_threshold    5.500000e+01\n",
      "polarization_variance              8.806100e+02\n",
      "engagement                         9.221120e+18\n",
      "free_speech_constraint                      NaN\n",
      "avg_user_effort                             NaN\n",
      "Name: 1, dtype: float64\n",
      "\n",
      "n_agents_above_belief_threshold      53.000000\n",
      "polarization_variance              1076.460000\n",
      "engagement                         4122.000000\n",
      "free_speech_constraint                0.585233\n",
      "avg_user_effort                       6.350000\n",
      "Name: 2, dtype: float64\n",
      "\n"
     ]
    }
   ],
   "source": [
    "print(f\"\\n\\n ----------------------------------------> Surprises below: <---------------------------------------- \\n\")\n",
    "for idx, row in outcomes.iterrows():\n",
    "    print(row)\n",
    "    print()"
   ],
   "metadata": {
    "collapsed": false,
    "pycharm": {
     "name": "#%%\n"
    }
   }
  },
  {
   "cell_type": "markdown",
   "source": [
    "I think that this may also be the reason for the `KeyError` that I keep getting (see first code cell after the imports)."
   ],
   "metadata": {
    "collapsed": false,
    "pycharm": {
     "name": "#%% md\n"
    }
   }
  },
  {
   "cell_type": "code",
   "execution_count": null,
   "outputs": [],
   "source": [],
   "metadata": {
    "collapsed": false,
    "pycharm": {
     "name": "#%%\n"
    }
   }
  }
 ],
 "metadata": {
  "kernelspec": {
   "display_name": "Python 3",
   "language": "python",
   "name": "python3"
  },
  "language_info": {
   "codemirror_mode": {
    "name": "ipython",
    "version": 2
   },
   "file_extension": ".py",
   "mimetype": "text/x-python",
   "name": "python",
   "nbconvert_exporter": "python",
   "pygments_lexer": "ipython2",
   "version": "2.7.6"
  }
 },
 "nbformat": 4,
 "nbformat_minor": 0
}