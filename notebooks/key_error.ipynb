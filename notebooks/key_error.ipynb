{
 "cells": [
  {
   "cell_type": "markdown",
   "source": [
    "# KeyError\n"
   ],
   "metadata": {
    "collapsed": false,
    "pycharm": {
     "name": "#%% md\n"
    }
   }
  },
  {
   "cell_type": "code",
   "execution_count": 1,
   "outputs": [],
   "source": [
    "import pandas as pd\n",
    "\n",
    "from misinfo_model import MisinfoPy\n",
    "from perform_experiments import perform_my_experiments"
   ],
   "metadata": {
    "collapsed": false,
    "pycharm": {
     "name": "#%%\n"
    }
   }
  },
  {
   "cell_type": "markdown",
   "source": [
    "`perform_my_experiments` sets up the model and uses the model (incl. its `__call__()` function) for a multi-processing evaluator (for `evaluator.perform_experiments()`).\n",
    "\n",
    "In the end of the model's `__call__()` function, I added a `print(results_dict)` statement. The results from this are reasonable and can be seen below.\n",
    "\n",
    "However, the results returned by the `evaluator.perform_experiments()` function include some surprises. In the results of the first two runs, there are some `Nan` values, and some surprisingly high values (e.g., 4e+09 agents above the belief-threshold, when there are in total only 100 agents in the model)."
   ],
   "metadata": {
    "collapsed": false,
    "pycharm": {
     "name": "#%% md\n"
    }
   }
  },
  {
   "cell_type": "code",
   "execution_count": 6,
   "outputs": [
    {
     "name": "stderr",
     "output_type": "stream",
     "text": [
      "[MainProcess/INFO] pool started with 8 workers\n",
      "[MainProcess/INFO] performing 1 scenarios * 10 policies * 1 model(s) = 10 experiments\n",
      " 10%|████▎                                      | 1/10 [00:04<00:42,  4.71s/it]Traceback (most recent call last):\n",
      "  File \"/Library/Frameworks/Python.framework/Versions/3.10/lib/python3.10/site-packages/ema_workbench/em_framework/callbacks.py\", line 244, in _store_outcomes\n",
      "    self.results[outcome][case_id,] = outcome_res\n",
      "KeyError: 'n_agents_above_belief_threshold'\n",
      "\n",
      "During handling of the above exception, another exception occurred:\n",
      "\n",
      "Traceback (most recent call last):\n",
      "  File \"/Library/Frameworks/Python.framework/Versions/3.10/lib/python3.10/site-packages/ema_workbench/em_framework/ema_multiprocessing.py\", line 253, in run\n",
      "    self.callback(*result.get())\n",
      "  File \"/Library/Frameworks/Python.framework/Versions/3.10/lib/python3.10/site-packages/ema_workbench/em_framework/callbacks.py\", line 279, in __call__\n",
      "    self._store_outcomes(experiment.experiment_id, outcomes)\n",
      "  File \"/Library/Frameworks/Python.framework/Versions/3.10/lib/python3.10/site-packages/ema_workbench/em_framework/callbacks.py\", line 258, in _store_outcomes\n",
      "    self.results[outcome][:] = np.nan\n",
      "ValueError: cannot convert float NaN to integer\n",
      "Traceback (most recent call last):\n",
      "  File \"/Library/Frameworks/Python.framework/Versions/3.10/lib/python3.10/site-packages/ema_workbench/em_framework/callbacks.py\", line 244, in _store_outcomes\n",
      "    self.results[outcome][case_id,] = outcome_res\n",
      "KeyError: 'engagement'\n",
      "\n",
      "During handling of the above exception, another exception occurred:\n",
      "\n",
      "Traceback (most recent call last):\n",
      "  File \"/Library/Frameworks/Python.framework/Versions/3.10/lib/python3.10/site-packages/ema_workbench/em_framework/ema_multiprocessing.py\", line 253, in run\n",
      "    self.callback(*result.get())\n",
      "  File \"/Library/Frameworks/Python.framework/Versions/3.10/lib/python3.10/site-packages/ema_workbench/em_framework/callbacks.py\", line 279, in __call__\n",
      "    self._store_outcomes(experiment.experiment_id, outcomes)\n",
      "  File \"/Library/Frameworks/Python.framework/Versions/3.10/lib/python3.10/site-packages/ema_workbench/em_framework/callbacks.py\", line 258, in _store_outcomes\n",
      "    self.results[outcome][:] = np.nan\n",
      "ValueError: cannot convert float NaN to integer\n",
      "100%|██████████████████████████████████████████| 10/10 [00:04<00:00,  2.04it/s]\n",
      "[MainProcess/INFO] experiments finished\n",
      "[MainProcess/INFO] terminating pool\n"
     ]
    },
    {
     "name": "stdout",
     "output_type": "stream",
     "text": [
      "\n",
      "n_agents_above_belief_threshold                57.000000\n",
      "polarization_variance                         801.060000\n",
      "polarization_kl_divergence_from_polarized       3.540000\n",
      "engagement                                   3953.000000\n",
      "free_speech_constraint                          0.394118\n",
      "avg_user_effort                                 7.650000\n",
      "dtype: float64\n",
      "\n",
      "n_agents_above_belief_threshold                78.000000\n",
      "polarization_variance                         762.950000\n",
      "polarization_kl_divergence_from_polarized       2.780000\n",
      "engagement                                   5201.000000\n",
      "free_speech_constraint                          0.333123\n",
      "avg_user_effort                                 7.100000\n",
      "dtype: float64\n",
      "\n",
      "n_agents_above_belief_threshold                71.000000\n",
      "polarization_variance                         733.490000\n",
      "polarization_kl_divergence_from_polarized       3.260000\n",
      "engagement                                   4581.000000\n",
      "free_speech_constraint                          0.314692\n",
      "avg_user_effort                                 7.020000\n",
      "dtype: float64\n",
      "\n",
      "n_agents_above_belief_threshold                66.000000\n",
      "polarization_variance                         979.990000\n",
      "polarization_kl_divergence_from_polarized       2.480000\n",
      "engagement                                   4258.000000\n",
      "free_speech_constraint                          0.372229\n",
      "avg_user_effort                                10.070000\n",
      "dtype: float64\n",
      "\n",
      "n_agents_above_belief_threshold                75.00000\n",
      "polarization_variance                         695.70000\n",
      "polarization_kl_divergence_from_polarized       3.29000\n",
      "engagement                                   5771.00000\n",
      "free_speech_constraint                          0.30182\n",
      "avg_user_effort                                 9.01000\n",
      "dtype: float64\n",
      "\n",
      "n_agents_above_belief_threshold                76.000000\n",
      "polarization_variance                         883.640000\n",
      "polarization_kl_divergence_from_polarized       2.700000\n",
      "engagement                                   6654.000000\n",
      "free_speech_constraint                          0.339348\n",
      "avg_user_effort                                12.670000\n",
      "dtype: float64\n",
      "\n",
      "n_agents_above_belief_threshold                58.000000\n",
      "polarization_variance                         813.410000\n",
      "polarization_kl_divergence_from_polarized       3.300000\n",
      "engagement                                   3747.000000\n",
      "free_speech_constraint                          0.450196\n",
      "avg_user_effort                                 6.220000\n",
      "dtype: float64\n",
      "\n",
      "n_agents_above_belief_threshold                71.000000\n",
      "polarization_variance                         756.870000\n",
      "polarization_kl_divergence_from_polarized       2.950000\n",
      "engagement                                   4298.000000\n",
      "free_speech_constraint                          0.370879\n",
      "avg_user_effort                                 7.800000\n",
      "dtype: float64\n",
      "\n",
      "n_agents_above_belief_threshold                74.000000\n",
      "polarization_variance                         841.730000\n",
      "polarization_kl_divergence_from_polarized       2.570000\n",
      "engagement                                   4772.000000\n",
      "free_speech_constraint                          0.344416\n",
      "avg_user_effort                                 8.210000\n",
      "dtype: float64\n",
      "\n",
      "n_agents_above_belief_threshold                65.000000\n",
      "polarization_variance                         988.530000\n",
      "polarization_kl_divergence_from_polarized       3.030000\n",
      "engagement                                   5252.000000\n",
      "free_speech_constraint                          0.381246\n",
      "avg_user_effort                                12.470000\n",
      "dtype: float64\n",
      "\n",
      "\n",
      " ----------------------------------------> Surprises below: <---------------------------------------- \n",
      "\n",
      "n_agents_above_belief_threshold    4.530504e+09\n",
      "polarization_variance                       NaN\n",
      "engagement                         9.221120e+18\n",
      "free_speech_constraint                      NaN\n",
      "avg_user_effort                             NaN\n",
      "Name: 0, dtype: float64\n",
      "\n",
      "n_agents_above_belief_threshold    7.400000e+01\n",
      "polarization_variance              8.417300e+02\n",
      "engagement                         9.221120e+18\n",
      "free_speech_constraint                      NaN\n",
      "avg_user_effort                             NaN\n",
      "Name: 1, dtype: float64\n",
      "\n",
      "n_agents_above_belief_threshold      58.000000\n",
      "polarization_variance               813.410000\n",
      "engagement                         3747.000000\n",
      "free_speech_constraint                0.450196\n",
      "avg_user_effort                       6.220000\n",
      "Name: 2, dtype: float64\n",
      "\n",
      "n_agents_above_belief_threshold      71.000000\n",
      "polarization_variance               733.490000\n",
      "engagement                         4581.000000\n",
      "free_speech_constraint                0.314692\n",
      "avg_user_effort                       7.020000\n",
      "Name: 3, dtype: float64\n",
      "\n",
      "n_agents_above_belief_threshold      57.000000\n",
      "polarization_variance               801.060000\n",
      "engagement                         3953.000000\n",
      "free_speech_constraint                0.394118\n",
      "avg_user_effort                       7.650000\n",
      "Name: 4, dtype: float64\n",
      "\n",
      "n_agents_above_belief_threshold      66.000000\n",
      "polarization_variance               979.990000\n",
      "engagement                         4258.000000\n",
      "free_speech_constraint                0.372229\n",
      "avg_user_effort                      10.070000\n",
      "Name: 5, dtype: float64\n",
      "\n",
      "n_agents_above_belief_threshold      75.00000\n",
      "polarization_variance               695.70000\n",
      "engagement                         5771.00000\n",
      "free_speech_constraint                0.30182\n",
      "avg_user_effort                       9.01000\n",
      "Name: 6, dtype: float64\n",
      "\n",
      "n_agents_above_belief_threshold      76.000000\n",
      "polarization_variance               883.640000\n",
      "engagement                         6654.000000\n",
      "free_speech_constraint                0.339348\n",
      "avg_user_effort                      12.670000\n",
      "Name: 7, dtype: float64\n",
      "\n",
      "n_agents_above_belief_threshold      71.000000\n",
      "polarization_variance               756.870000\n",
      "engagement                         4298.000000\n",
      "free_speech_constraint                0.370879\n",
      "avg_user_effort                       7.800000\n",
      "Name: 8, dtype: float64\n",
      "\n",
      "n_agents_above_belief_threshold      65.000000\n",
      "polarization_variance               988.530000\n",
      "engagement                         5252.000000\n",
      "free_speech_constraint                0.381246\n",
      "avg_user_effort                      12.470000\n",
      "Name: 9, dtype: float64\n",
      "\n"
     ]
    }
   ],
   "source": [
    "results = perform_my_experiments(n_agents=100, n_scenarios=1, n_policies=10)\n",
    "experiments, outcomes = results\n",
    "outcomes = pd.DataFrame(outcomes)\n",
    "\n",
    "print(f\"\\n\\n ----------------------------------------> Surprises below: <---------------------------------------- \\n\")\n",
    "for idx, row in outcomes.iterrows():\n",
    "    print(row)\n",
    "    print()"
   ],
   "metadata": {
    "collapsed": false,
    "pycharm": {
     "name": "#%%\n"
    }
   }
  },
  {
   "cell_type": "markdown",
   "source": [
    "I think that this may be the reason for the `KeyError` that I keep getting."
   ],
   "metadata": {
    "collapsed": false,
    "pycharm": {
     "name": "#%% md\n"
    }
   }
  },
  {
   "cell_type": "code",
   "execution_count": null,
   "outputs": [],
   "source": [],
   "metadata": {
    "collapsed": false,
    "pycharm": {
     "name": "#%%\n"
    }
   }
  }
 ],
 "metadata": {
  "kernelspec": {
   "display_name": "Python 3",
   "language": "python",
   "name": "python3"
  },
  "language_info": {
   "codemirror_mode": {
    "name": "ipython",
    "version": 2
   },
   "file_extension": ".py",
   "mimetype": "text/x-python",
   "name": "python",
   "nbconvert_exporter": "python",
   "pygments_lexer": "ipython2",
   "version": "2.7.6"
  }
 },
 "nbformat": 4,
 "nbformat_minor": 0
}