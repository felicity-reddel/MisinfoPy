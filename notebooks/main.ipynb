{
 "cells": [
  {
   "cell_type": "markdown",
   "source": [
    "# Main notebook\n",
    "\n",
    "This notebook can be used to run the misinfo model with various parameters.\n"
   ],
   "metadata": {
    "collapsed": false,
    "pycharm": {
     "name": "#%% md\n"
    }
   }
  },
  {
   "cell_type": "markdown",
   "source": [
    "## Imports"
   ],
   "metadata": {
    "collapsed": false,
    "pycharm": {
     "name": "#%% md\n"
    }
   }
  },
  {
   "cell_type": "code",
   "execution_count": 1,
   "metadata": {
    "collapsed": true
   },
   "outputs": [],
   "source": [
    "from misinfo_model import *\n",
    "from visualization import *\n",
    "from agents import *\n",
    "import time\n",
    "import numpy as np\n",
    "import seaborn as sns\n",
    "sns.set_theme(style=\"whitegrid\")"
   ]
  },
  {
   "cell_type": "markdown",
   "source": [
    "\n",
    "## Parameters"
   ],
   "metadata": {
    "collapsed": false,
    "pycharm": {
     "name": "#%% md\n"
    }
   }
  },
  {
   "cell_type": "code",
   "execution_count": 2,
   "outputs": [],
   "source": [
    "visualize = True\n",
    "n_agents = 100\n",
    "agent_ratio = {NormalUser.__name__: 0.99, Disinformer.__name__: 0.01}\n",
    "n_edges = 3\n",
    "media_literacy_intervention = (0.2, SelectAgentsBy.RANDOM)\n",
    "# ranking_visibility_adjustment = -0.0\n",
    "delete_threshold = 0.1\n",
    "p_true_threshold_ranking = 0.2\n",
    "\n",
    "max_run_length = 60"
   ],
   "metadata": {
    "collapsed": false,
    "pycharm": {
     "name": "#%%\n"
    }
   }
  },
  {
   "cell_type": "markdown",
   "source": [
    "## Model run"
   ],
   "metadata": {
    "collapsed": false,
    "pycharm": {
     "name": "#%% md\n"
    }
   }
  },
  {
   "cell_type": "code",
   "execution_count": 3,
   "outputs": [],
   "source": [
    "model = MisinfoPy(n_agents=n_agents,\n",
    "                  n_edges=n_edges,\n",
    "                  agent_ratio=agent_ratio,\n",
    "                  media_literacy_intervention=media_literacy_intervention,\n",
    "                  delete_threshold = 0.1,\n",
    "                  p_true_threshold_ranking = 0.2,\n",
    "                  )"
   ],
   "metadata": {
    "collapsed": false,
    "pycharm": {
     "name": "#%%\n"
    }
   }
  },
  {
   "cell_type": "markdown",
   "source": [
    "## Visualize initial belief distribution"
   ],
   "metadata": {
    "collapsed": false,
    "pycharm": {
     "name": "#%% md\n"
    }
   }
  },
  {
   "cell_type": "code",
   "execution_count": 4,
   "outputs": [
    {
     "data": {
      "text/plain": "<Figure size 432x288 with 1 Axes>",
      "image/png": "[encoded data removed]"
     },
     "metadata": {},
     "output_type": "display_data"
    }
   ],
   "source": [
    "# Overview of the agents' belief distribution at the start\n",
    "data = [agent.beliefs[Topic.VAX] for agent in model.schedule.agents]\n",
    "\n",
    "bins = np.linspace(math.ceil(min(data)),\n",
    "                   math.floor(max(data)),\n",
    "                   40)  # fixed number of bins\n",
    "\n",
    "plt.xlim([min(data) - 5, max(data) + 5])\n",
    "\n",
    "plt.hist(data, bins=bins, alpha=0.5)\n",
    "plt.title(f'Before. NormalUser: {agent_ratio[NormalUser.__name__]*100}%')\n",
    "plt.xlabel('Beliefs')\n",
    "plt.ylabel('Count')\n",
    "\n",
    "plt.show()"
   ],
   "metadata": {
    "collapsed": false,
    "pycharm": {
     "name": "#%%\n"
    }
   }
  },
  {
   "cell_type": "code",
   "execution_count": 5,
   "outputs": [
    {
     "name": "stdout",
     "output_type": "stream",
     "text": [
      "Starting\n",
      "step 0 done\n",
      "7 tick-block\n",
      "7 tick-block\n",
      "7 tick-block\n",
      "7 tick-block\n",
      "7 tick-block\n",
      "7 tick-block\n",
      "7 tick-block\n",
      "7 tick-block\n",
      "7 tick-block\n",
      "blocked forever at tick 9.0\n",
      "blocked forever at tick 9.0\n",
      "7 tick-block\n",
      "blocked forever at tick 10.0\n",
      "step 10 done\n",
      "blocked forever at tick 11.0\n",
      "blocked forever at tick 11.0\n",
      "blocked forever at tick 12.0\n",
      "blocked forever at tick 12.0\n",
      "blocked forever at tick 13.0\n",
      "blocked forever at tick 15.0\n",
      "step 20 done\n",
      "7 tick-block\n",
      "7 tick-block\n",
      "blocked forever at tick 29.0\n",
      "step 30 done\n",
      "step 40 done\n",
      "step 50 done\n",
      "With 60 steps, runtime is 2.4\n"
     ]
    }
   ],
   "source": [
    "print(f\"Starting\")\n",
    "start_time = time.time()\n",
    "for i in range(max_run_length):\n",
    "    model.step()\n",
    "    if i % 10 == 0:\n",
    "        print(f\"step {i} done\")\n",
    "\n",
    "run_time = round(time.time() - start_time, 2)\n",
    "print(f\"With {max_run_length} steps, runtime is {run_time}\")"
   ],
   "metadata": {
    "collapsed": false,
    "pycharm": {
     "name": "#%%\n"
    }
   }
  },
  {
   "cell_type": "code",
   "execution_count": 6,
   "outputs": [
    {
     "data": {
      "text/plain": "<Figure size 432x288 with 1 Axes>",
      "image/png": "[encoded data removed]"
     },
     "metadata": {},
     "output_type": "display_data"
    }
   ],
   "source": [
    "# Overview of the agents' belief distribution at the end\n",
    "data = [agent.beliefs[Topic.VAX] for agent in model.schedule.agents]\n",
    "\n",
    "bins = np.linspace(math.ceil(min(data)),\n",
    "                   math.floor(max(data)),\n",
    "                   40)  # fixed number of bins\n",
    "\n",
    "plt.xlim([min(data) - 5, max(data) + 5])\n",
    "\n",
    "plt.hist(data, bins=bins, alpha=0.5)\n",
    "plt.title(f'After. NormalUser: {agent_ratio[NormalUser.__name__]*100}%')\n",
    "plt.xlabel('Beliefs')\n",
    "plt.ylabel('Count')\n",
    "\n",
    "plt.show()"
   ],
   "metadata": {
    "collapsed": false,
    "pycharm": {
     "name": "#%%\n"
    }
   }
  }
 ],
 "metadata": {
  "kernelspec": {
   "display_name": "Python 3",
   "language": "python",
   "name": "python3"
  },
  "language_info": {
   "codemirror_mode": {
    "name": "ipython",
    "version": 2
   },
   "file_extension": ".py",
   "mimetype": "text/x-python",
   "name": "python",
   "nbconvert_exporter": "python",
   "pygments_lexer": "ipython2",
   "version": "2.7.6"
  }
 },
 "nbformat": 4,
 "nbformat_minor": 0
}