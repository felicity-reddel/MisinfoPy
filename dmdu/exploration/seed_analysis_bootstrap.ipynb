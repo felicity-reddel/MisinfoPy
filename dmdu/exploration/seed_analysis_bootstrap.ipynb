{
 "cells": [
  {
   "cell_type": "markdown",
   "source": [
    "# Bootstrapped Seed Analysis\n",
    "Here, the data gathered for inspecting the model's sensitivity to stochastics will be analyzed. This analysis will be more reliable as bootstrapping will be used to draw conclusions."
   ],
   "metadata": {
    "collapsed": false,
    "pycharm": {
     "name": "#%% md\n"
    }
   }
  },
  {
   "cell_type": "code",
   "execution_count": 4,
   "outputs": [],
   "source": [
    "import pandas as pd\n",
    "import os\n",
    "\n",
    "from dmdu.exploration.seed_analysis_utils import get_data\n",
    "from dmdu.exploration.seed_analysis_bootstrap_utils import load_outcomes, get_quantile_data, save_to_csv\n",
    "from model.enums import BeliefUpdate\n",
    "\n",
    "# Params\n",
    "n_seeds_list = [10, 20, 30, 40]\n",
    "n_samplings_per_n_seeds = 100\n",
    "quantile = 0.5\n"
   ],
   "metadata": {
    "collapsed": false,
    "pycharm": {
     "name": "#%%\n"
    }
   }
  },
  {
   "cell_type": "markdown",
   "source": [
    "### Bootstrapping"
   ],
   "metadata": {
    "collapsed": false,
    "pycharm": {
     "name": "#%% md\n"
    }
   }
  },
  {
   "cell_type": "code",
   "execution_count": 2,
   "outputs": [],
   "source": [
    "for belief_update_fn in list(BeliefUpdate):\n",
    "    # Calculate quantile data\n",
    "    data = get_quantile_data(outcomes_deffuant, n_seeds_list=n_seeds_list, n_samplings=n_samplings_per_n_seeds, quantile=quantile)\n",
    "    # Save data\n",
    "    save_to_csv(data=data, belief_update_fn=belief_update_fn)\n"
   ],
   "metadata": {
    "collapsed": false,
    "pycharm": {
     "name": "#%%\n"
    }
   }
  },
  {
   "cell_type": "markdown",
   "source": [
    "### Loading the data"
   ],
   "metadata": {
    "collapsed": false,
    "pycharm": {
     "name": "#%% md\n"
    }
   }
  },
  {
   "cell_type": "code",
   "execution_count": 7,
   "outputs": [
    {
     "name": "stdout",
     "output_type": "stream",
     "text": [
      "SAMPLE <class 'pandas.core.frame.DataFrame'>\n",
      "DEFFUANT <class 'pandas.core.frame.DataFrame'>\n",
      "SIT <class 'pandas.core.frame.DataFrame'>\n"
     ]
    }
   ],
   "source": [
    "data_dict = {}\n",
    "\n",
    "for belief_update_fn in list(BeliefUpdate):\n",
    "    dir_path = os.path.join(os.getcwd(), 'data', 'seedanalysis', belief_update_fn.name)\n",
    "    file_name =  'quantile.csv'\n",
    "    path = os.path.join(dir_path, file_name)\n",
    "\n",
    "    data = pd.read_csv(path)\n",
    "\n",
    "    data_dict[belief_update_fn.name] = data\n",
    "\n",
    "# for k, v in data_dict.items():\n",
    "#     print(k, type(v))"
   ],
   "metadata": {
    "collapsed": false,
    "pycharm": {
     "name": "#%%\n"
    }
   }
  },
  {
   "cell_type": "markdown",
   "source": [
    "### Plotting the results"
   ],
   "metadata": {
    "collapsed": false,
    "pycharm": {
     "name": "#%% md\n"
    }
   }
  },
  {
   "cell_type": "code",
   "execution_count": null,
   "outputs": [],
   "source": [
    "# TODO: CONTINUE HERE"
   ],
   "metadata": {
    "collapsed": false,
    "pycharm": {
     "name": "#%%\n"
    }
   }
  }
 ],
 "metadata": {
  "kernelspec": {
   "display_name": "Python 3",
   "language": "python",
   "name": "python3"
  },
  "language_info": {
   "codemirror_mode": {
    "name": "ipython",
    "version": 2
   },
   "file_extension": ".py",
   "mimetype": "text/x-python",
   "name": "python",
   "nbconvert_exporter": "python",
   "pygments_lexer": "ipython2",
   "version": "2.7.6"
  }
 },
 "nbformat": 4,
 "nbformat_minor": 0
}