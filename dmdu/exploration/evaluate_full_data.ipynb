{
 "cells": [
  {
   "cell_type": "code",
   "execution_count": null,
   "metadata": {
    "collapsed": true
   },
   "outputs": [],
   "source": [
    "# imports\n",
    "from ema_workbench.analysis import parcoords\n",
    "import pandas as pd\n",
    "from ema_workbench import load_results\n",
    "import seaborn as sns\n",
    "import os\n",
    "from model.enums import BeliefUpdate\n",
    "from dmdu.utils_dmdu import get_lever_names, get_outcome_names\n",
    "\n",
    "sns.set(rc={'figure.figsize': (14, 10)})\n"
   ]
  },
  {
   "cell_type": "markdown",
   "source": [
    "### Loading the data (results)"
   ],
   "metadata": {
    "collapsed": false,
    "pycharm": {
     "name": "#%% md\n"
    }
   }
  },
  {
   "cell_type": "code",
   "execution_count": null,
   "outputs": [],
   "source": [
    "# Params  # TODO: make a function 'load_my_csv(nfe, bufn, filename, seed=None)' make it also remove the \"Unnamed: 0\" col\n",
    "nfe = 50000\n",
    "bufn = BeliefUpdate.DEFFUANT\n",
    "\n",
    "# Loading the results\n",
    "results_path = os.path.join(os.getcwd(), \"data\", f\"{nfe}_nfe\", bufn.name, \"results.csv\")\n",
    "results = pd.read_csv(results_path)\n",
    "\n",
    "# Dropping unwanted column\n",
    "results = results.rename(columns={\"Unnamed: 0\": \"policy\"})\n",
    "results\n"
   ],
   "metadata": {
    "collapsed": false,
    "pycharm": {
     "name": "#%%\n"
    }
   }
  },
  {
   "cell_type": "code",
   "execution_count": null,
   "outputs": [],
   "source": [
    "# rescale lever values (0-10 -> 0-100, 0-5 -> 0-50)\n",
    "lever_names = get_lever_names()\n",
    "for col_name in results.columns:\n",
    "    if col_name in lever_names:\n",
    "        results[col_name] *= 10\n",
    "\n",
    "results"
   ],
   "metadata": {
    "collapsed": false,
    "pycharm": {
     "name": "#%%\n"
    }
   }
  },
  {
   "cell_type": "code",
   "execution_count": null,
   "outputs": [],
   "source": [
    "data_dict = {BeliefUpdate.DEFFUANT.name: results}"
   ],
   "metadata": {
    "collapsed": false,
    "pycharm": {
     "name": "#%%\n"
    }
   }
  }
 ],
 "metadata": {
  "kernelspec": {
   "display_name": "Python 3",
   "language": "python",
   "name": "python3"
  },
  "language_info": {
   "codemirror_mode": {
    "name": "ipython",
    "version": 2
   },
   "file_extension": ".py",
   "mimetype": "text/x-python",
   "name": "python",
   "nbconvert_exporter": "python",
   "pygments_lexer": "ipython2",
   "version": "2.7.6"
  }
 },
 "nbformat": 4,
 "nbformat_minor": 0
}