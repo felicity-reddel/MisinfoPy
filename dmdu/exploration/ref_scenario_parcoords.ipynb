{
 "cells": [
  {
   "cell_type": "markdown",
   "source": [
    "# Picking the reference scenario // Parallel Axis Plots\n",
    "-> Parallel Axis Plots for data from 'no policy'-exploration"
   ],
   "metadata": {
    "collapsed": false,
    "pycharm": {
     "name": "#%% md\n"
    }
   }
  },
  {
   "cell_type": "code",
   "execution_count": 1,
   "metadata": {
    "collapsed": true,
    "pycharm": {
     "name": "#%%\n"
    }
   },
   "outputs": [],
   "source": [
    "import pandas as pd\n",
    "\n",
    "from dmdu.exploration.ref_scenario_parcoords_utils import *"
   ]
  },
  {
   "cell_type": "markdown",
   "source": [
    "### 1. Loading the data\n",
    "For each of the three models, the results from the 'no policy'-exploration (produced by perform_experiments_replicator_model.py) are loaded and split into the experiments (DataFrame) and outcomes (dict)."
   ],
   "metadata": {
    "collapsed": false,
    "pycharm": {
     "name": "#%% md\n"
    }
   }
  },
  {
   "cell_type": "code",
   "execution_count": 2,
   "outputs": [],
   "source": [
    "# Loading the data\n",
    "n_scenarios = 200\n",
    "n_replications = 30\n",
    "\n",
    "deffuant_exp, deffuant_out  = get_results('DEFFUANT', scenarios=n_scenarios, replications=n_replications)\n",
    "sample_exp, sample_out  = get_results('SAMPLE', scenarios=n_scenarios, replications=n_replications)\n",
    "sit_exp, sit_out  = get_results('SIT', scenarios=n_scenarios, replications=n_replications)\n"
   ],
   "metadata": {
    "collapsed": false,
    "pycharm": {
     "name": "#%%\n"
    }
   }
  },
  {
   "cell_type": "markdown",
   "source": [
    "### 2. Transforming from array dicts\n",
    "The use of the ReplicatorModel has ArrayOutcomes (not ScalarOutcomes). Because the function for the parallel axis plots of the ema_workbench requires the data input to be DataFrames, the outcomes will be reshaped. Furthermore, to combine the outcomes from all three models in one plot, the outcomes are combined into a single DataFrame."
   ],
   "metadata": {
    "collapsed": false,
    "pycharm": {
     "name": "#%% md\n"
    }
   }
  },
  {
   "cell_type": "code",
   "execution_count": 3,
   "outputs": [],
   "source": [
    "# Transforming from array dicts (due to ReplicatorModel with ArrayOutcome) to DataFrames\n",
    "deffuant_out = arraydict_to_df(deffuant_out)\n",
    "sample_out = arraydict_to_df(sample_out)\n",
    "sit_out = arraydict_to_df(sit_out)\n"
   ],
   "metadata": {
    "collapsed": false,
    "pycharm": {
     "name": "#%%\n"
    }
   }
  },
  {
   "cell_type": "code",
   "execution_count": 4,
   "outputs": [
    {
     "data": {
      "text/plain": "       n_agents_above_belief_threshold  polarization_variance  engagement  \\\n0                                650.0                 242.26     373.457   \n1                                647.0                 260.70     371.624   \n2                                551.0                 297.18     515.109   \n3                                708.0                 249.08     436.553   \n4                                764.0                 209.53     396.218   \n...                                ...                    ...         ...   \n17995                            640.0                 915.65     178.123   \n17996                            566.0                 912.87     185.321   \n17997                            607.0                 919.52     189.791   \n17998                            659.0                 908.41     198.743   \n17999                            661.0                 864.49     192.423   \n\n       free_speech_constraint  avg_user_effort belief_update_fn  \n0                    0.039683            55.32         DEFFUANT  \n1                    0.036624            62.23         DEFFUANT  \n2                    0.033089            63.12         DEFFUANT  \n3                    0.028944            58.78         DEFFUANT  \n4                    0.021778            66.19         DEFFUANT  \n...                       ...              ...              ...  \n17995                0.120195            28.74              SIT  \n17996                0.141249            32.57              SIT  \n17997                0.137223            28.16              SIT  \n17998                0.124952            33.40              SIT  \n17999                0.136786            31.63              SIT  \n\n[18000 rows x 6 columns]",
      "text/html": "<div>\n<style scoped>\n    .dataframe tbody tr th:only-of-type {\n        vertical-align: middle;\n    }\n\n    .dataframe tbody tr th {\n        vertical-align: top;\n    }\n\n    .dataframe thead th {\n        text-align: right;\n    }\n</style>\n<table border=\"1\" class=\"dataframe\">\n  <thead>\n    <tr style=\"text-align: right;\">\n      <th></th>\n      <th>n_agents_above_belief_threshold</th>\n      <th>polarization_variance</th>\n      <th>engagement</th>\n      <th>free_speech_constraint</th>\n      <th>avg_user_effort</th>\n      <th>belief_update_fn</th>\n    </tr>\n  </thead>\n  <tbody>\n    <tr>\n      <th>0</th>\n      <td>650.0</td>\n      <td>242.26</td>\n      <td>373.457</td>\n      <td>0.039683</td>\n      <td>55.32</td>\n      <td>DEFFUANT</td>\n    </tr>\n    <tr>\n      <th>1</th>\n      <td>647.0</td>\n      <td>260.70</td>\n      <td>371.624</td>\n      <td>0.036624</td>\n      <td>62.23</td>\n      <td>DEFFUANT</td>\n    </tr>\n    <tr>\n      <th>2</th>\n      <td>551.0</td>\n      <td>297.18</td>\n      <td>515.109</td>\n      <td>0.033089</td>\n      <td>63.12</td>\n      <td>DEFFUANT</td>\n    </tr>\n    <tr>\n      <th>3</th>\n      <td>708.0</td>\n      <td>249.08</td>\n      <td>436.553</td>\n      <td>0.028944</td>\n      <td>58.78</td>\n      <td>DEFFUANT</td>\n    </tr>\n    <tr>\n      <th>4</th>\n      <td>764.0</td>\n      <td>209.53</td>\n      <td>396.218</td>\n      <td>0.021778</td>\n      <td>66.19</td>\n      <td>DEFFUANT</td>\n    </tr>\n    <tr>\n      <th>...</th>\n      <td>...</td>\n      <td>...</td>\n      <td>...</td>\n      <td>...</td>\n      <td>...</td>\n      <td>...</td>\n    </tr>\n    <tr>\n      <th>17995</th>\n      <td>640.0</td>\n      <td>915.65</td>\n      <td>178.123</td>\n      <td>0.120195</td>\n      <td>28.74</td>\n      <td>SIT</td>\n    </tr>\n    <tr>\n      <th>17996</th>\n      <td>566.0</td>\n      <td>912.87</td>\n      <td>185.321</td>\n      <td>0.141249</td>\n      <td>32.57</td>\n      <td>SIT</td>\n    </tr>\n    <tr>\n      <th>17997</th>\n      <td>607.0</td>\n      <td>919.52</td>\n      <td>189.791</td>\n      <td>0.137223</td>\n      <td>28.16</td>\n      <td>SIT</td>\n    </tr>\n    <tr>\n      <th>17998</th>\n      <td>659.0</td>\n      <td>908.41</td>\n      <td>198.743</td>\n      <td>0.124952</td>\n      <td>33.40</td>\n      <td>SIT</td>\n    </tr>\n    <tr>\n      <th>17999</th>\n      <td>661.0</td>\n      <td>864.49</td>\n      <td>192.423</td>\n      <td>0.136786</td>\n      <td>31.63</td>\n      <td>SIT</td>\n    </tr>\n  </tbody>\n</table>\n<p>18000 rows × 6 columns</p>\n</div>"
     },
     "execution_count": 4,
     "metadata": {},
     "output_type": "execute_result"
    }
   ],
   "source": [
    "# Combine outcomes-data from all models (for combined parcoords)\n",
    "deffuant_out['belief_update_fn'] = 'DEFFUANT'\n",
    "sample_out['belief_update_fn'] = 'SAMPLE'\n",
    "sit_out['belief_update_fn'] = 'SIT'\n",
    "\n",
    "out = pd.concat([deffuant_out, sample_out, sit_out])\n",
    "out = out.reset_index()  # to not have 'triplicate' indices\n",
    "out = out.drop(columns=['index'])\n",
    "out"
   ],
   "metadata": {
    "collapsed": false,
    "pycharm": {
     "name": "#%%\n"
    }
   }
  },
  {
   "cell_type": "code",
   "execution_count": 5,
   "outputs": [
    {
     "data": {
      "text/plain": "     belief_metric_threshold  deffuant_mu  high_media_lit  mean_disinformer  \\\n0                         76     0.010177        0.347936                 9   \n1                         75     0.026042        0.324773                11   \n2                         76     0.026171        0.270825                 8   \n3                         78     0.018171        0.285280                 8   \n4                         77     0.010828        0.252359                12   \n..                       ...          ...             ...               ...   \n595                       75     0.020276        0.308778                10   \n596                       77     0.011447        0.261904                 8   \n597                       80     0.025131        0.251584                 8   \n598                       78     0.021480        0.332444                 8   \n599                       79     0.021043        0.329572                12   \n\n     mean_normal_user  n_edges  n_posts_estimate_similarity  \\\n0                   2        3                           12   \n1                   1        2                            5   \n2                   2        3                            5   \n3                   1        3                            8   \n4                   2        2                           14   \n..                ...      ...                          ...   \n595                 0        2                            5   \n596                 1        3                           13   \n597                 2        2                           12   \n598                 0        3                            7   \n599                 0        2                           10   \n\n     ratio_normal_user  sampling_p_update  mlit_select  del_t  rank_punish  \\\n0             0.989923           0.014639            0      0            0   \n1             0.986406           0.022632            0      0            0   \n2             0.980470           0.027951            0      0            0   \n3             0.988295           0.020174            0      0            0   \n4             0.991354           0.016223            0      0            0   \n..                 ...                ...          ...    ...          ...   \n595           0.994205           0.010955            0      0            0   \n596           0.993374           0.016519            0      0            0   \n597           0.989375           0.027652            0      0            0   \n598           0.982338           0.026114            0      0            0   \n599           0.990300           0.017194            0      0            0   \n\n     rank_t  strikes_t  scenario   policy      model  \n0         0          0       200  all off  MisinfoPy  \n1         0          0       201  all off  MisinfoPy  \n2         0          0       202  all off  MisinfoPy  \n3         0          0       203  all off  MisinfoPy  \n4         0          0       204  all off  MisinfoPy  \n..      ...        ...       ...      ...        ...  \n595       0          0       595  all off  MisinfoPy  \n596       0          0       596  all off  MisinfoPy  \n597       0          0       597  all off  MisinfoPy  \n598       0          0       598  all off  MisinfoPy  \n599       0          0       599  all off  MisinfoPy  \n\n[600 rows x 17 columns]",
      "text/html": "<div>\n<style scoped>\n    .dataframe tbody tr th:only-of-type {\n        vertical-align: middle;\n    }\n\n    .dataframe tbody tr th {\n        vertical-align: top;\n    }\n\n    .dataframe thead th {\n        text-align: right;\n    }\n</style>\n<table border=\"1\" class=\"dataframe\">\n  <thead>\n    <tr style=\"text-align: right;\">\n      <th></th>\n      <th>belief_metric_threshold</th>\n      <th>deffuant_mu</th>\n      <th>high_media_lit</th>\n      <th>mean_disinformer</th>\n      <th>mean_normal_user</th>\n      <th>n_edges</th>\n      <th>n_posts_estimate_similarity</th>\n      <th>ratio_normal_user</th>\n      <th>sampling_p_update</th>\n      <th>mlit_select</th>\n      <th>del_t</th>\n      <th>rank_punish</th>\n      <th>rank_t</th>\n      <th>strikes_t</th>\n      <th>scenario</th>\n      <th>policy</th>\n      <th>model</th>\n    </tr>\n  </thead>\n  <tbody>\n    <tr>\n      <th>0</th>\n      <td>76</td>\n      <td>0.010177</td>\n      <td>0.347936</td>\n      <td>9</td>\n      <td>2</td>\n      <td>3</td>\n      <td>12</td>\n      <td>0.989923</td>\n      <td>0.014639</td>\n      <td>0</td>\n      <td>0</td>\n      <td>0</td>\n      <td>0</td>\n      <td>0</td>\n      <td>200</td>\n      <td>all off</td>\n      <td>MisinfoPy</td>\n    </tr>\n    <tr>\n      <th>1</th>\n      <td>75</td>\n      <td>0.026042</td>\n      <td>0.324773</td>\n      <td>11</td>\n      <td>1</td>\n      <td>2</td>\n      <td>5</td>\n      <td>0.986406</td>\n      <td>0.022632</td>\n      <td>0</td>\n      <td>0</td>\n      <td>0</td>\n      <td>0</td>\n      <td>0</td>\n      <td>201</td>\n      <td>all off</td>\n      <td>MisinfoPy</td>\n    </tr>\n    <tr>\n      <th>2</th>\n      <td>76</td>\n      <td>0.026171</td>\n      <td>0.270825</td>\n      <td>8</td>\n      <td>2</td>\n      <td>3</td>\n      <td>5</td>\n      <td>0.980470</td>\n      <td>0.027951</td>\n      <td>0</td>\n      <td>0</td>\n      <td>0</td>\n      <td>0</td>\n      <td>0</td>\n      <td>202</td>\n      <td>all off</td>\n      <td>MisinfoPy</td>\n    </tr>\n    <tr>\n      <th>3</th>\n      <td>78</td>\n      <td>0.018171</td>\n      <td>0.285280</td>\n      <td>8</td>\n      <td>1</td>\n      <td>3</td>\n      <td>8</td>\n      <td>0.988295</td>\n      <td>0.020174</td>\n      <td>0</td>\n      <td>0</td>\n      <td>0</td>\n      <td>0</td>\n      <td>0</td>\n      <td>203</td>\n      <td>all off</td>\n      <td>MisinfoPy</td>\n    </tr>\n    <tr>\n      <th>4</th>\n      <td>77</td>\n      <td>0.010828</td>\n      <td>0.252359</td>\n      <td>12</td>\n      <td>2</td>\n      <td>2</td>\n      <td>14</td>\n      <td>0.991354</td>\n      <td>0.016223</td>\n      <td>0</td>\n      <td>0</td>\n      <td>0</td>\n      <td>0</td>\n      <td>0</td>\n      <td>204</td>\n      <td>all off</td>\n      <td>MisinfoPy</td>\n    </tr>\n    <tr>\n      <th>...</th>\n      <td>...</td>\n      <td>...</td>\n      <td>...</td>\n      <td>...</td>\n      <td>...</td>\n      <td>...</td>\n      <td>...</td>\n      <td>...</td>\n      <td>...</td>\n      <td>...</td>\n      <td>...</td>\n      <td>...</td>\n      <td>...</td>\n      <td>...</td>\n      <td>...</td>\n      <td>...</td>\n      <td>...</td>\n    </tr>\n    <tr>\n      <th>595</th>\n      <td>75</td>\n      <td>0.020276</td>\n      <td>0.308778</td>\n      <td>10</td>\n      <td>0</td>\n      <td>2</td>\n      <td>5</td>\n      <td>0.994205</td>\n      <td>0.010955</td>\n      <td>0</td>\n      <td>0</td>\n      <td>0</td>\n      <td>0</td>\n      <td>0</td>\n      <td>595</td>\n      <td>all off</td>\n      <td>MisinfoPy</td>\n    </tr>\n    <tr>\n      <th>596</th>\n      <td>77</td>\n      <td>0.011447</td>\n      <td>0.261904</td>\n      <td>8</td>\n      <td>1</td>\n      <td>3</td>\n      <td>13</td>\n      <td>0.993374</td>\n      <td>0.016519</td>\n      <td>0</td>\n      <td>0</td>\n      <td>0</td>\n      <td>0</td>\n      <td>0</td>\n      <td>596</td>\n      <td>all off</td>\n      <td>MisinfoPy</td>\n    </tr>\n    <tr>\n      <th>597</th>\n      <td>80</td>\n      <td>0.025131</td>\n      <td>0.251584</td>\n      <td>8</td>\n      <td>2</td>\n      <td>2</td>\n      <td>12</td>\n      <td>0.989375</td>\n      <td>0.027652</td>\n      <td>0</td>\n      <td>0</td>\n      <td>0</td>\n      <td>0</td>\n      <td>0</td>\n      <td>597</td>\n      <td>all off</td>\n      <td>MisinfoPy</td>\n    </tr>\n    <tr>\n      <th>598</th>\n      <td>78</td>\n      <td>0.021480</td>\n      <td>0.332444</td>\n      <td>8</td>\n      <td>0</td>\n      <td>3</td>\n      <td>7</td>\n      <td>0.982338</td>\n      <td>0.026114</td>\n      <td>0</td>\n      <td>0</td>\n      <td>0</td>\n      <td>0</td>\n      <td>0</td>\n      <td>598</td>\n      <td>all off</td>\n      <td>MisinfoPy</td>\n    </tr>\n    <tr>\n      <th>599</th>\n      <td>79</td>\n      <td>0.021043</td>\n      <td>0.329572</td>\n      <td>12</td>\n      <td>0</td>\n      <td>2</td>\n      <td>10</td>\n      <td>0.990300</td>\n      <td>0.017194</td>\n      <td>0</td>\n      <td>0</td>\n      <td>0</td>\n      <td>0</td>\n      <td>0</td>\n      <td>599</td>\n      <td>all off</td>\n      <td>MisinfoPy</td>\n    </tr>\n  </tbody>\n</table>\n<p>600 rows × 17 columns</p>\n</div>"
     },
     "execution_count": 5,
     "metadata": {},
     "output_type": "execute_result"
    }
   ],
   "source": [
    "# Also combine the experiment-DataFrames the same way -> indeces of outcomes & experiments dataframes align\n",
    "\n",
    "exp = pd.concat([deffuant_exp, sample_exp, sit_exp])\n",
    "exp = exp.reset_index()  # to not have 'triplicate' indices\n",
    "exp = exp.drop(columns=['index'])\n",
    "exp\n"
   ],
   "metadata": {
    "collapsed": false,
    "pycharm": {
     "name": "#%%\n"
    }
   }
  },
  {
   "cell_type": "markdown",
   "source": [
    "### Plotting the Parallel Axis Plot\n",
    "Below, the resulting parallel axis plot is depicted."
   ],
   "metadata": {
    "collapsed": false,
    "pycharm": {
     "name": "#%% md\n"
    }
   }
  },
  {
   "cell_type": "code",
   "execution_count": 6,
   "outputs": [],
   "source": [
    "# Parallel Axis Plot\n",
    "plot_again_despite_it_taking_forever = False\n",
    "\n",
    "if plot_again_despite_it_taking_forever:\n",
    "    parcoords_color_by(out, 'belief_update_fn')"
   ],
   "metadata": {
    "collapsed": false,
    "pycharm": {
     "name": "#%%\n"
    }
   }
  },
  {
   "cell_type": "code",
   "execution_count": 7,
   "outputs": [
    {
     "data": {
      "text/plain": "       n_agents_above_belief_threshold  polarization_variance    engagement  \\\ncount                     18000.000000           18000.000000  18000.000000   \nmean                        675.828778             540.604033    363.298552   \nstd                         124.777892             212.526816    171.447652   \nmin                          22.000000              30.160000     92.469000   \n25%                         592.000000             379.847500    230.273000   \n50%                         669.000000             535.830000    331.274000   \n75%                         764.000000             693.172500    464.164750   \nmax                         991.000000             996.850000   1081.285000   \n\n       free_speech_constraint  avg_user_effort  \ncount            18000.000000     18000.000000  \nmean                 0.093920        49.467557  \nstd                  0.042783        22.680147  \nmin                  0.000985        12.850000  \n25%                  0.063286        31.560000  \n50%                  0.089620        45.430000  \n75%                  0.118281        64.240000  \nmax                  0.271471       140.810000  ",
      "text/html": "<div>\n<style scoped>\n    .dataframe tbody tr th:only-of-type {\n        vertical-align: middle;\n    }\n\n    .dataframe tbody tr th {\n        vertical-align: top;\n    }\n\n    .dataframe thead th {\n        text-align: right;\n    }\n</style>\n<table border=\"1\" class=\"dataframe\">\n  <thead>\n    <tr style=\"text-align: right;\">\n      <th></th>\n      <th>n_agents_above_belief_threshold</th>\n      <th>polarization_variance</th>\n      <th>engagement</th>\n      <th>free_speech_constraint</th>\n      <th>avg_user_effort</th>\n    </tr>\n  </thead>\n  <tbody>\n    <tr>\n      <th>count</th>\n      <td>18000.000000</td>\n      <td>18000.000000</td>\n      <td>18000.000000</td>\n      <td>18000.000000</td>\n      <td>18000.000000</td>\n    </tr>\n    <tr>\n      <th>mean</th>\n      <td>675.828778</td>\n      <td>540.604033</td>\n      <td>363.298552</td>\n      <td>0.093920</td>\n      <td>49.467557</td>\n    </tr>\n    <tr>\n      <th>std</th>\n      <td>124.777892</td>\n      <td>212.526816</td>\n      <td>171.447652</td>\n      <td>0.042783</td>\n      <td>22.680147</td>\n    </tr>\n    <tr>\n      <th>min</th>\n      <td>22.000000</td>\n      <td>30.160000</td>\n      <td>92.469000</td>\n      <td>0.000985</td>\n      <td>12.850000</td>\n    </tr>\n    <tr>\n      <th>25%</th>\n      <td>592.000000</td>\n      <td>379.847500</td>\n      <td>230.273000</td>\n      <td>0.063286</td>\n      <td>31.560000</td>\n    </tr>\n    <tr>\n      <th>50%</th>\n      <td>669.000000</td>\n      <td>535.830000</td>\n      <td>331.274000</td>\n      <td>0.089620</td>\n      <td>45.430000</td>\n    </tr>\n    <tr>\n      <th>75%</th>\n      <td>764.000000</td>\n      <td>693.172500</td>\n      <td>464.164750</td>\n      <td>0.118281</td>\n      <td>64.240000</td>\n    </tr>\n    <tr>\n      <th>max</th>\n      <td>991.000000</td>\n      <td>996.850000</td>\n      <td>1081.285000</td>\n      <td>0.271471</td>\n      <td>140.810000</td>\n    </tr>\n  </tbody>\n</table>\n</div>"
     },
     "execution_count": 7,
     "metadata": {},
     "output_type": "execute_result"
    }
   ],
   "source": [
    "out.describe()"
   ],
   "metadata": {
    "collapsed": false,
    "pycharm": {
     "name": "#%%\n"
    }
   }
  },
  {
   "cell_type": "code",
   "execution_count": 8,
   "outputs": [
    {
     "data": {
      "text/plain": "       n_agents_above_belief_threshold  polarization_variance  engagement  \\\n0                                650.0                 242.26     373.457   \n1                                647.0                 260.70     371.624   \n2                                551.0                 297.18     515.109   \n3                                708.0                 249.08     436.553   \n4                                764.0                 209.53     396.218   \n...                                ...                    ...         ...   \n17995                            640.0                 915.65     178.123   \n17996                            566.0                 912.87     185.321   \n17997                            607.0                 919.52     189.791   \n17998                            659.0                 908.41     198.743   \n17999                            661.0                 864.49     192.423   \n\n       free_speech_constraint  avg_user_effort belief_update_fn  \n0                    0.039683            55.32         DEFFUANT  \n1                    0.036624            62.23         DEFFUANT  \n2                    0.033089            63.12         DEFFUANT  \n3                    0.028944            58.78         DEFFUANT  \n4                    0.021778            66.19         DEFFUANT  \n...                       ...              ...              ...  \n17995                0.120195            28.74              SIT  \n17996                0.141249            32.57              SIT  \n17997                0.137223            28.16              SIT  \n17998                0.124952            33.40              SIT  \n17999                0.136786            31.63              SIT  \n\n[18000 rows x 6 columns]",
      "text/html": "<div>\n<style scoped>\n    .dataframe tbody tr th:only-of-type {\n        vertical-align: middle;\n    }\n\n    .dataframe tbody tr th {\n        vertical-align: top;\n    }\n\n    .dataframe thead th {\n        text-align: right;\n    }\n</style>\n<table border=\"1\" class=\"dataframe\">\n  <thead>\n    <tr style=\"text-align: right;\">\n      <th></th>\n      <th>n_agents_above_belief_threshold</th>\n      <th>polarization_variance</th>\n      <th>engagement</th>\n      <th>free_speech_constraint</th>\n      <th>avg_user_effort</th>\n      <th>belief_update_fn</th>\n    </tr>\n  </thead>\n  <tbody>\n    <tr>\n      <th>0</th>\n      <td>650.0</td>\n      <td>242.26</td>\n      <td>373.457</td>\n      <td>0.039683</td>\n      <td>55.32</td>\n      <td>DEFFUANT</td>\n    </tr>\n    <tr>\n      <th>1</th>\n      <td>647.0</td>\n      <td>260.70</td>\n      <td>371.624</td>\n      <td>0.036624</td>\n      <td>62.23</td>\n      <td>DEFFUANT</td>\n    </tr>\n    <tr>\n      <th>2</th>\n      <td>551.0</td>\n      <td>297.18</td>\n      <td>515.109</td>\n      <td>0.033089</td>\n      <td>63.12</td>\n      <td>DEFFUANT</td>\n    </tr>\n    <tr>\n      <th>3</th>\n      <td>708.0</td>\n      <td>249.08</td>\n      <td>436.553</td>\n      <td>0.028944</td>\n      <td>58.78</td>\n      <td>DEFFUANT</td>\n    </tr>\n    <tr>\n      <th>4</th>\n      <td>764.0</td>\n      <td>209.53</td>\n      <td>396.218</td>\n      <td>0.021778</td>\n      <td>66.19</td>\n      <td>DEFFUANT</td>\n    </tr>\n    <tr>\n      <th>...</th>\n      <td>...</td>\n      <td>...</td>\n      <td>...</td>\n      <td>...</td>\n      <td>...</td>\n      <td>...</td>\n    </tr>\n    <tr>\n      <th>17995</th>\n      <td>640.0</td>\n      <td>915.65</td>\n      <td>178.123</td>\n      <td>0.120195</td>\n      <td>28.74</td>\n      <td>SIT</td>\n    </tr>\n    <tr>\n      <th>17996</th>\n      <td>566.0</td>\n      <td>912.87</td>\n      <td>185.321</td>\n      <td>0.141249</td>\n      <td>32.57</td>\n      <td>SIT</td>\n    </tr>\n    <tr>\n      <th>17997</th>\n      <td>607.0</td>\n      <td>919.52</td>\n      <td>189.791</td>\n      <td>0.137223</td>\n      <td>28.16</td>\n      <td>SIT</td>\n    </tr>\n    <tr>\n      <th>17998</th>\n      <td>659.0</td>\n      <td>908.41</td>\n      <td>198.743</td>\n      <td>0.124952</td>\n      <td>33.40</td>\n      <td>SIT</td>\n    </tr>\n    <tr>\n      <th>17999</th>\n      <td>661.0</td>\n      <td>864.49</td>\n      <td>192.423</td>\n      <td>0.136786</td>\n      <td>31.63</td>\n      <td>SIT</td>\n    </tr>\n  </tbody>\n</table>\n<p>18000 rows × 6 columns</p>\n</div>"
     },
     "execution_count": 8,
     "metadata": {},
     "output_type": "execute_result"
    }
   ],
   "source": [
    "out"
   ],
   "metadata": {
    "collapsed": false,
    "pycharm": {
     "name": "#%%\n"
    }
   }
  },
  {
   "cell_type": "code",
   "execution_count": 9,
   "outputs": [
    {
     "name": "stdout",
     "output_type": "stream",
     "text": [
      "(625.515, 712.485) n_agents_above_belief_threshold\n",
      "(501.0010500000001, 570.65895) polarization_variance\n",
      "(309.74119, 352.80681) engagement\n",
      "(0.0837950961622267, 0.09544575124360581) free_speech_constraint\n",
      "(42.477050000000006, 48.382949999999994) avg_user_effort\n"
     ]
    }
   ],
   "source": [
    "# Picking a representative scenario as ref_scenario\n",
    "medians = {}\n",
    "column_headers = [e for e in out.columns if e != 'belief_update_fn']\n",
    "\n",
    "for m_name in column_headers:\n",
    "    median = out[m_name].median()\n",
    "    medians[m_name] = median\n",
    "\n",
    "\n",
    "# get specified ranges around the medians of each metric\n",
    "envelope = 0.065  # 6.5% of the median-value -> range: [lowerbound=6.5% above median, upperbound=6.5% below the median]\n",
    "ranges = {}\n",
    "\n",
    "for m_name, median in medians.items():\n",
    "    lowerbound = median * (1 - envelope)\n",
    "    upperbound = median * (1 + envelope)\n",
    "    ranges[m_name] = (lowerbound, upperbound)\n",
    "\n",
    "for k, v in ranges.items():\n",
    "    print(v, k)\n",
    "\n",
    "# Ideas:\n",
    "# - calculate median for each metric, then get a scenario that is close to those values?\n",
    "# - visually pick ranges, get subset of scenarios that fulfills them all?\n",
    "# - add kde or sth like that over each metric-axis, use that for picking the ranges, get subset of scenarios that fulfills them all?"
   ],
   "metadata": {
    "collapsed": false,
    "pycharm": {
     "name": "#%%\n"
    }
   }
  },
  {
   "cell_type": "code",
   "execution_count": 10,
   "outputs": [],
   "source": [
    "# more programmatic attempt\n",
    "# metric_subsets = {}\n",
    "#\n",
    "# for m_name, range in ranges.items():\n",
    "#     lowerbound, upperbound = range\n",
    "#     m_scenarios = out[(out[m_name] >= lowerbound) & (out[m_name] <= upperbound)]\n",
    "#     metric_subsets[m_name] = m_scenarios\n",
    "#\n",
    "# for k, v in metric_subsets.items():\n",
    "#     print(k, v)"
   ],
   "metadata": {
    "collapsed": false,
    "pycharm": {
     "name": "#%%\n"
    }
   }
  },
  {
   "cell_type": "code",
   "execution_count": 11,
   "outputs": [
    {
     "data": {
      "text/plain": "       n_agents_above_belief_threshold  polarization_variance  engagement  \\\n10916                            691.0                 547.96     310.602   \n\n       free_speech_constraint  avg_user_effort belief_update_fn  \n10916                0.087049            47.12           SAMPLE  ",
      "text/html": "<div>\n<style scoped>\n    .dataframe tbody tr th:only-of-type {\n        vertical-align: middle;\n    }\n\n    .dataframe tbody tr th {\n        vertical-align: top;\n    }\n\n    .dataframe thead th {\n        text-align: right;\n    }\n</style>\n<table border=\"1\" class=\"dataframe\">\n  <thead>\n    <tr style=\"text-align: right;\">\n      <th></th>\n      <th>n_agents_above_belief_threshold</th>\n      <th>polarization_variance</th>\n      <th>engagement</th>\n      <th>free_speech_constraint</th>\n      <th>avg_user_effort</th>\n      <th>belief_update_fn</th>\n    </tr>\n  </thead>\n  <tbody>\n    <tr>\n      <th>10916</th>\n      <td>691.0</td>\n      <td>547.96</td>\n      <td>310.602</td>\n      <td>0.087049</td>\n      <td>47.12</td>\n      <td>SAMPLE</td>\n    </tr>\n  </tbody>\n</table>\n</div>"
     },
     "execution_count": 11,
     "metadata": {},
     "output_type": "execute_result"
    }
   ],
   "source": [
    "# Filtering to find scenarios closest to median values -> check whether each metric's values are within the specified ranges (i.e., within 'envelope'-many percent above/below the median)\n",
    "median_scenarios = out[((out['n_agents_above_belief_threshold'] >= ranges['n_agents_above_belief_threshold'][0]) & (out['n_agents_above_belief_threshold'] <= ranges['n_agents_above_belief_threshold'][1])) &\n",
    "                       ((out['polarization_variance'] >= ranges['polarization_variance'][0]) & (out['polarization_variance'] <= ranges['polarization_variance'][1])) &\n",
    "                       ((out['engagement'] >= ranges['engagement'][0]) & (out['engagement'] <= ranges['engagement'][1])) &\n",
    "                       ((out['free_speech_constraint'] >= ranges['free_speech_constraint'][0]) & (out['free_speech_constraint'] <= ranges['free_speech_constraint'][1])) &\n",
    "                       ((out['avg_user_effort'] >= ranges['avg_user_effort'][0]) & (out['avg_user_effort'] <= ranges['avg_user_effort'][1])) ]\n",
    "\n",
    "median_scenarios"
   ],
   "metadata": {
    "collapsed": false,
    "pycharm": {
     "name": "#%%\n"
    }
   }
  },
  {
   "cell_type": "code",
   "execution_count": 12,
   "outputs": [],
   "source": [
    "##"
   ],
   "metadata": {
    "collapsed": false,
    "pycharm": {
     "name": "#%%\n"
    }
   }
  },
  {
   "cell_type": "code",
   "execution_count": 13,
   "outputs": [
    {
     "data": {
      "text/plain": "       n_agents_above_belief_threshold  polarization_variance  engagement  \\\n0                                650.0                 242.26     373.457   \n1                                647.0                 260.70     371.624   \n2                                551.0                 297.18     515.109   \n3                                708.0                 249.08     436.553   \n4                                764.0                 209.53     396.218   \n...                                ...                    ...         ...   \n17995                            640.0                 915.65     178.123   \n17996                            566.0                 912.87     185.321   \n17997                            607.0                 919.52     189.791   \n17998                            659.0                 908.41     198.743   \n17999                            661.0                 864.49     192.423   \n\n       free_speech_constraint  avg_user_effort belief_update_fn  \n0                    0.039683            55.32         DEFFUANT  \n1                    0.036624            62.23         DEFFUANT  \n2                    0.033089            63.12         DEFFUANT  \n3                    0.028944            58.78         DEFFUANT  \n4                    0.021778            66.19         DEFFUANT  \n...                       ...              ...              ...  \n17995                0.120195            28.74              SIT  \n17996                0.141249            32.57              SIT  \n17997                0.137223            28.16              SIT  \n17998                0.124952            33.40              SIT  \n17999                0.136786            31.63              SIT  \n\n[18000 rows x 6 columns]",
      "text/html": "<div>\n<style scoped>\n    .dataframe tbody tr th:only-of-type {\n        vertical-align: middle;\n    }\n\n    .dataframe tbody tr th {\n        vertical-align: top;\n    }\n\n    .dataframe thead th {\n        text-align: right;\n    }\n</style>\n<table border=\"1\" class=\"dataframe\">\n  <thead>\n    <tr style=\"text-align: right;\">\n      <th></th>\n      <th>n_agents_above_belief_threshold</th>\n      <th>polarization_variance</th>\n      <th>engagement</th>\n      <th>free_speech_constraint</th>\n      <th>avg_user_effort</th>\n      <th>belief_update_fn</th>\n    </tr>\n  </thead>\n  <tbody>\n    <tr>\n      <th>0</th>\n      <td>650.0</td>\n      <td>242.26</td>\n      <td>373.457</td>\n      <td>0.039683</td>\n      <td>55.32</td>\n      <td>DEFFUANT</td>\n    </tr>\n    <tr>\n      <th>1</th>\n      <td>647.0</td>\n      <td>260.70</td>\n      <td>371.624</td>\n      <td>0.036624</td>\n      <td>62.23</td>\n      <td>DEFFUANT</td>\n    </tr>\n    <tr>\n      <th>2</th>\n      <td>551.0</td>\n      <td>297.18</td>\n      <td>515.109</td>\n      <td>0.033089</td>\n      <td>63.12</td>\n      <td>DEFFUANT</td>\n    </tr>\n    <tr>\n      <th>3</th>\n      <td>708.0</td>\n      <td>249.08</td>\n      <td>436.553</td>\n      <td>0.028944</td>\n      <td>58.78</td>\n      <td>DEFFUANT</td>\n    </tr>\n    <tr>\n      <th>4</th>\n      <td>764.0</td>\n      <td>209.53</td>\n      <td>396.218</td>\n      <td>0.021778</td>\n      <td>66.19</td>\n      <td>DEFFUANT</td>\n    </tr>\n    <tr>\n      <th>...</th>\n      <td>...</td>\n      <td>...</td>\n      <td>...</td>\n      <td>...</td>\n      <td>...</td>\n      <td>...</td>\n    </tr>\n    <tr>\n      <th>17995</th>\n      <td>640.0</td>\n      <td>915.65</td>\n      <td>178.123</td>\n      <td>0.120195</td>\n      <td>28.74</td>\n      <td>SIT</td>\n    </tr>\n    <tr>\n      <th>17996</th>\n      <td>566.0</td>\n      <td>912.87</td>\n      <td>185.321</td>\n      <td>0.141249</td>\n      <td>32.57</td>\n      <td>SIT</td>\n    </tr>\n    <tr>\n      <th>17997</th>\n      <td>607.0</td>\n      <td>919.52</td>\n      <td>189.791</td>\n      <td>0.137223</td>\n      <td>28.16</td>\n      <td>SIT</td>\n    </tr>\n    <tr>\n      <th>17998</th>\n      <td>659.0</td>\n      <td>908.41</td>\n      <td>198.743</td>\n      <td>0.124952</td>\n      <td>33.40</td>\n      <td>SIT</td>\n    </tr>\n    <tr>\n      <th>17999</th>\n      <td>661.0</td>\n      <td>864.49</td>\n      <td>192.423</td>\n      <td>0.136786</td>\n      <td>31.63</td>\n      <td>SIT</td>\n    </tr>\n  </tbody>\n</table>\n<p>18000 rows × 6 columns</p>\n</div>"
     },
     "execution_count": 13,
     "metadata": {},
     "output_type": "execute_result"
    }
   ],
   "source": [
    "\n",
    "out_avg_over_seeds = []\n",
    "out"
   ],
   "metadata": {
    "collapsed": false,
    "pycharm": {
     "name": "#%%\n"
    }
   }
  },
  {
   "cell_type": "code",
   "execution_count": 13,
   "outputs": [],
   "source": [
    "# PLAN\n",
    "# Get first 30 rows (for first seed)\n",
    "# Get new 'row'-dict: avg over each column (axis = 0)\n",
    "# Add row dict to out_avg_over_seeds list\n",
    "# list -> df\n",
    "\n",
    "# then filter the 600 scenarios for proximity to the median values"
   ],
   "metadata": {
    "collapsed": false,
    "pycharm": {
     "name": "#%%\n"
    }
   }
  },
  {
   "cell_type": "code",
   "execution_count": null,
   "outputs": [],
   "source": [
    "# PLAN\n",
    "# Get rows of index n*200 (for first seed) for n in range (30, n_seeds)\n",
    "# Get new 'row'-dict: avg over each column (axis = 0)\n",
    "# Add row dict to out_avg_over_seeds list\n",
    "# list -> df\n",
    "\n",
    "# then filter the 600 scenarios for proximity to the median values"
   ],
   "metadata": {
    "collapsed": false,
    "pycharm": {
     "name": "#%%\n"
    }
   }
  },
  {
   "cell_type": "code",
   "execution_count": 58,
   "outputs": [
    {
     "name": "stderr",
     "output_type": "stream",
     "text": [
      "/var/folders/pf/lf4ppv4j1b9fml9qsgv_8wjh0000gn/T/ipykernel_13916/3107840397.py:26: FutureWarning: Dropping of nuisance columns in DataFrame reductions (with 'numeric_only=None') is deprecated; in a future version this will raise TypeError.  Select only valid columns before calling the reduction.\n",
      "  avgs = subset.mean(axis=0)\n"
     ]
    },
    {
     "data": {
      "text/plain": "     n_agents_above_belief_threshold  polarization_variance  engagement  \\\n0                         627.033333             341.206333  255.522033   \n1                         604.866667             355.905333  261.803167   \n2                         605.066667             351.885333  245.431533   \n3                         622.266667             347.855667  242.300467   \n4                         615.800000             353.621000  236.858533   \n..                               ...                    ...         ...   \n595                       716.300000             756.091000  477.317400   \n596                       689.266667             769.753333  487.999567   \n597                       724.966667             749.615667  455.757033   \n598                       749.200000             734.638000  447.081633   \n599                       672.200000             772.623333  443.010667   \n\n     free_speech_constraint  avg_user_effort  \n0                  0.090894        34.029667  \n1                  0.085726        33.231333  \n2                  0.077292        33.917000  \n3                  0.073062        32.589667  \n4                  0.084807        33.969333  \n..                      ...              ...  \n595                0.114040        62.640667  \n596                0.115670        63.632667  \n597                0.113233        64.107333  \n598                0.111342        61.849667  \n599                0.113770        61.814667  \n\n[600 rows x 5 columns]",
      "text/html": "<div>\n<style scoped>\n    .dataframe tbody tr th:only-of-type {\n        vertical-align: middle;\n    }\n\n    .dataframe tbody tr th {\n        vertical-align: top;\n    }\n\n    .dataframe thead th {\n        text-align: right;\n    }\n</style>\n<table border=\"1\" class=\"dataframe\">\n  <thead>\n    <tr style=\"text-align: right;\">\n      <th></th>\n      <th>n_agents_above_belief_threshold</th>\n      <th>polarization_variance</th>\n      <th>engagement</th>\n      <th>free_speech_constraint</th>\n      <th>avg_user_effort</th>\n    </tr>\n  </thead>\n  <tbody>\n    <tr>\n      <th>0</th>\n      <td>627.033333</td>\n      <td>341.206333</td>\n      <td>255.522033</td>\n      <td>0.090894</td>\n      <td>34.029667</td>\n    </tr>\n    <tr>\n      <th>1</th>\n      <td>604.866667</td>\n      <td>355.905333</td>\n      <td>261.803167</td>\n      <td>0.085726</td>\n      <td>33.231333</td>\n    </tr>\n    <tr>\n      <th>2</th>\n      <td>605.066667</td>\n      <td>351.885333</td>\n      <td>245.431533</td>\n      <td>0.077292</td>\n      <td>33.917000</td>\n    </tr>\n    <tr>\n      <th>3</th>\n      <td>622.266667</td>\n      <td>347.855667</td>\n      <td>242.300467</td>\n      <td>0.073062</td>\n      <td>32.589667</td>\n    </tr>\n    <tr>\n      <th>4</th>\n      <td>615.800000</td>\n      <td>353.621000</td>\n      <td>236.858533</td>\n      <td>0.084807</td>\n      <td>33.969333</td>\n    </tr>\n    <tr>\n      <th>...</th>\n      <td>...</td>\n      <td>...</td>\n      <td>...</td>\n      <td>...</td>\n      <td>...</td>\n    </tr>\n    <tr>\n      <th>595</th>\n      <td>716.300000</td>\n      <td>756.091000</td>\n      <td>477.317400</td>\n      <td>0.114040</td>\n      <td>62.640667</td>\n    </tr>\n    <tr>\n      <th>596</th>\n      <td>689.266667</td>\n      <td>769.753333</td>\n      <td>487.999567</td>\n      <td>0.115670</td>\n      <td>63.632667</td>\n    </tr>\n    <tr>\n      <th>597</th>\n      <td>724.966667</td>\n      <td>749.615667</td>\n      <td>455.757033</td>\n      <td>0.113233</td>\n      <td>64.107333</td>\n    </tr>\n    <tr>\n      <th>598</th>\n      <td>749.200000</td>\n      <td>734.638000</td>\n      <td>447.081633</td>\n      <td>0.111342</td>\n      <td>61.849667</td>\n    </tr>\n    <tr>\n      <th>599</th>\n      <td>672.200000</td>\n      <td>772.623333</td>\n      <td>443.010667</td>\n      <td>0.113770</td>\n      <td>61.814667</td>\n    </tr>\n  </tbody>\n</table>\n<p>600 rows × 5 columns</p>\n</div>"
     },
     "execution_count": 58,
     "metadata": {},
     "output_type": "execute_result"
    }
   ],
   "source": [
    "# n_replications = n_seeds = 30\n",
    "# n_scenarios = 600\n",
    "\n",
    "replic_ids = list(range(n_replications))  # 30\n",
    "# print(replic_ids)\n",
    "\n",
    "# scenario_ids = list(range(n_scenarios))  # 200\n",
    "scenario_ids = list(range(n_scenarios))  # 200(scenarios) * 3(models) = 600\n",
    "\n",
    "# print(scenario_ids)\n",
    "summarized = []\n",
    "data = out\n",
    "\n",
    "def get_avg_metrics_per_scenario(data, n_replications, n_scenarios):\n",
    "\n",
    "    replic_ids = list(range(n_replications))  # 30\n",
    "    scenario_ids = list(range(n_scenarios))  # 200\n",
    "    summarized = []\n",
    "\n",
    "    for n in scenario_ids:\n",
    "        # Row indeces of 1 seed/replication\n",
    "        row_ids = [n + (idx * n_scenarios) for idx in replic_ids]\n",
    "        # print(row_ids, len(row_ids))\n",
    "        # Get subset DataFrame, which only contains data from that scenario\n",
    "        subset = data.iloc[row_ids]\n",
    "        avgs = subset.mean(axis=0)\n",
    "        summarized.append(avgs)\n",
    "\n",
    "    # each element in summarized becomes a row of the final df\n",
    "    avg_per_scenario = pd.concat(summarized, axis=1)\n",
    "    avg_per_scenario = avg_per_scenario.transpose()\n",
    "\n",
    "    return avg_per_scenario\n",
    "\n",
    "\n",
    "# outcomes data per belief_update_fn, each with only 1 entry per scenario\n",
    "deffuant = get_avg_metrics_per_scenario(deffuant_out, n_replications, n_scenarios)\n",
    "sample = get_avg_metrics_per_scenario(sample_out, n_replications, n_scenarios)\n",
    "sit = get_avg_metrics_per_scenario(sit_out, n_replications, n_scenarios)\n",
    "\n",
    "\n",
    "combined = pd.concat([deffuant, sample, sit])\n",
    "combined = combined.reset_index()  # to not have 'triplicate' indices\n",
    "combined = combined.drop(columns=['index'])\n",
    "combined\n",
    "\n",
    "# TODO: CONTINUE HERE. Now from 0 to 6000. I.e., for 1 belief update fn  -> do it not for the combined out, but for each separate out\n",
    "    # seed_data = out.iloc[]"
   ],
   "metadata": {
    "collapsed": false,
    "pycharm": {
     "name": "#%%\n"
    }
   }
  },
  {
   "cell_type": "code",
   "execution_count": 65,
   "outputs": [
    {
     "name": "stdout",
     "output_type": "stream",
     "text": [
      "(670.6094999999999, 712.0904999999999) n_agents_above_belief_threshold\n",
      "(516.8067850000001, 548.774215) polarization_variance\n",
      "(372.0714198333334, 395.0861468333334) engagement\n",
      "(0.09174974347304087, 0.09742498533735268) free_speech_constraint\n",
      "(50.99791166666667, 54.15242166666667) avg_user_effort\n"
     ]
    }
   ],
   "source": [
    "# Now the actual filtering\n",
    "medians = {}\n",
    "column_headers = [e for e in combined.columns if e != 'belief_update_fn']\n",
    "\n",
    "for m_name in column_headers:\n",
    "    median = combined[m_name].median()\n",
    "    medians[m_name] = median\n",
    "\n",
    "\n",
    "# get specified ranges around the medians of each metric\n",
    "envelope = 0.03  # 6.5% of the median-value -> range: [lowerbound=6.5% above median, upperbound=6.5% below the median]\n",
    "ranges = {}\n",
    "\n",
    "for m_name, median in medians.items():\n",
    "    lowerbound = median * (1 - envelope)\n",
    "    upperbound = median * (1 + envelope)\n",
    "    ranges[m_name] = (lowerbound, upperbound)\n",
    "\n",
    "for k, v in ranges.items():\n",
    "    print(v, k)"
   ],
   "metadata": {
    "collapsed": false,
    "pycharm": {
     "name": "#%%\n"
    }
   }
  },
  {
   "cell_type": "code",
   "execution_count": 66,
   "outputs": [
    {
     "data": {
      "text/plain": "     n_agents_above_belief_threshold  polarization_variance  engagement  \\\n310                       698.733333             528.525333  374.188767   \n\n     free_speech_constraint  avg_user_effort  \n310                0.095943        51.641667  ",
      "text/html": "<div>\n<style scoped>\n    .dataframe tbody tr th:only-of-type {\n        vertical-align: middle;\n    }\n\n    .dataframe tbody tr th {\n        vertical-align: top;\n    }\n\n    .dataframe thead th {\n        text-align: right;\n    }\n</style>\n<table border=\"1\" class=\"dataframe\">\n  <thead>\n    <tr style=\"text-align: right;\">\n      <th></th>\n      <th>n_agents_above_belief_threshold</th>\n      <th>polarization_variance</th>\n      <th>engagement</th>\n      <th>free_speech_constraint</th>\n      <th>avg_user_effort</th>\n    </tr>\n  </thead>\n  <tbody>\n    <tr>\n      <th>310</th>\n      <td>698.733333</td>\n      <td>528.525333</td>\n      <td>374.188767</td>\n      <td>0.095943</td>\n      <td>51.641667</td>\n    </tr>\n  </tbody>\n</table>\n</div>"
     },
     "execution_count": 66,
     "metadata": {},
     "output_type": "execute_result"
    }
   ],
   "source": [
    "# Filtering to find scenarios closest to median values -> check whether each metric's values are within the specified ranges (i.e., within 'envelope'-many percent above/below the median)\n",
    "out = combined\n",
    "\n",
    "median_scenarios = out[((out['n_agents_above_belief_threshold'] >= ranges['n_agents_above_belief_threshold'][0]) & (out['n_agents_above_belief_threshold'] <= ranges['n_agents_above_belief_threshold'][1])) &\n",
    "                       ((out['polarization_variance'] >= ranges['polarization_variance'][0]) & (out['polarization_variance'] <= ranges['polarization_variance'][1])) &\n",
    "                       ((out['engagement'] >= ranges['engagement'][0]) & (out['engagement'] <= ranges['engagement'][1])) &\n",
    "                       ((out['free_speech_constraint'] >= ranges['free_speech_constraint'][0]) & (out['free_speech_constraint'] <= ranges['free_speech_constraint'][1])) &\n",
    "                       ((out['avg_user_effort'] >= ranges['avg_user_effort'][0]) & (out['avg_user_effort'] <= ranges['avg_user_effort'][1])) ]\n",
    "\n",
    "median_scenarios"
   ],
   "metadata": {
    "collapsed": false,
    "pycharm": {
     "name": "#%%\n"
    }
   }
  },
  {
   "cell_type": "code",
   "execution_count": 66,
   "outputs": [],
   "source": [
    "# -> idx 310\n",
    "# =>  sample, idx 110  (310 - 200)\n",
    "\n"
   ],
   "metadata": {
    "collapsed": false,
    "pycharm": {
     "name": "#%%\n"
    }
   }
  },
  {
   "cell_type": "code",
   "execution_count": 80,
   "outputs": [
    {
     "data": {
      "text/plain": "belief_metric_threshold              80\ndeffuant_mu                    0.018566\nhigh_media_lit                 0.285126\nmean_disinformer                      8\nmean_normal_user                      0\nn_edges                               3\nn_posts_estimate_similarity           5\nratio_normal_user              0.993085\nsampling_p_update              0.027595\nName: 110, dtype: object"
     },
     "execution_count": 80,
     "metadata": {},
     "output_type": "execute_result"
    }
   ],
   "source": [
    "# Get that scenario from sample_exp\n",
    "ref_scenario = sample_exp.iloc[110, :]\n",
    "uncertainties = ['belief_metric_threshold', 'deffuant_mu', 'high_media_lit', 'mean_disinformer', 'mean_normal_user', 'n_edges', 'n_posts_estimate_similarity', 'ratio_normal_user', 'sampling_p_update']\n",
    "ref_scenario = ref_scenario.loc[uncertainties]\n",
    "ref_scenario"
   ],
   "metadata": {
    "collapsed": false,
    "pycharm": {
     "name": "#%%\n"
    }
   }
  },
  {
   "cell_type": "code",
   "execution_count": 81,
   "outputs": [
    {
     "data": {
      "text/plain": "n_agents_above_belief_threshold    698.733333\npolarization_variance              528.525333\nengagement                         374.188767\nfree_speech_constraint               0.095943\navg_user_effort                     51.641667\nName: 110, dtype: float64"
     },
     "execution_count": 81,
     "metadata": {},
     "output_type": "execute_result"
    }
   ],
   "source": [
    "# double check whether matches sample idx 110\n",
    "sample.iloc[110, :]"
   ],
   "metadata": {
    "collapsed": false,
    "pycharm": {
     "name": "#%%\n"
    }
   }
  },
  {
   "cell_type": "code",
   "execution_count": 82,
   "outputs": [],
   "source": [
    "# Save ref_scenario\n",
    "import os\n",
    "from dmdu.utils_dmdu import make_sure_path_exists\n",
    "\n",
    "# path\n",
    "os.getcwd()\n",
    "dir_path = os.path.join(os.getcwd(), 'data')\n",
    "make_sure_path_exists(dir_path)\n",
    "path = os.path.join(dir_path, 'ref_scenario.csv')\n",
    "\n",
    "ref_scenario.to_csv(path)"
   ],
   "metadata": {
    "collapsed": false,
    "pycharm": {
     "name": "#%%\n"
    }
   }
  },
  {
   "cell_type": "code",
   "execution_count": 89,
   "outputs": [],
   "source": [
    "# Make metric names the indeces of the df -> nope, is already, just not saved/loaded again like it\n",
    "\n",
    "# indeces = []\n",
    "#\n",
    "# for idx, row in ref_scenario.iteritems():\n",
    "#     indeces.append(idx)\n",
    "#\n",
    "# ref_scenario.index"
   ],
   "metadata": {
    "collapsed": false,
    "pycharm": {
     "name": "#%%\n"
    }
   }
  },
  {
   "cell_type": "code",
   "execution_count": 99,
   "outputs": [
    {
     "data": {
      "text/plain": "Scenario({'belief_metric_threshold': 80.0, 'deffuant_mu': 0.0185664008066397, 'high_media_lit': 0.2851257267625852, 'mean_disinformer': 8.0, 'mean_normal_user': 0.0, 'n_edges': 3.0, 'n_posts_estimate_similarity': 5.0, 'ratio_normal_user': 0.9930851855394072, 'sampling_p_update': 0.027594598317021})"
     },
     "execution_count": 99,
     "metadata": {},
     "output_type": "execute_result"
    }
   ],
   "source": [
    "# TODO: Getting ref_scenario into params form, then make Scenario out of it\n",
    "from ema_workbench import Scenario\n",
    "\n",
    "params = {}\n",
    "\n",
    "# Path  # TODO: adjust if move to different file\n",
    "os.getcwd()\n",
    "dir_path = os.path.join(os.getcwd(), 'data')\n",
    "make_sure_path_exists(dir_path)\n",
    "path = os.path.join(dir_path, 'ref_scenario.csv')\n",
    "\n",
    "ref_scenario_df = pd.read_csv(path)\n",
    "ref_scenario_df\n",
    "#\n",
    "for idx, row in ref_scenario_df.iterrows():\n",
    "    metric = row[0]\n",
    "    value = row[1]\n",
    "    params[metric] = value\n",
    "\n",
    "\n",
    "\n",
    "# the reference scenario!!\n",
    "ref_scenario = Scenario('reference', **params)\n",
    "ref_scenario"
   ],
   "metadata": {
    "collapsed": false,
    "pycharm": {
     "name": "#%%\n"
    }
   }
  },
  {
   "cell_type": "code",
   "execution_count": null,
   "outputs": [],
   "source": [],
   "metadata": {
    "collapsed": false,
    "pycharm": {
     "name": "#%%\n"
    }
   }
  }
 ],
 "metadata": {
  "kernelspec": {
   "display_name": "Python 3",
   "language": "python",
   "name": "python3"
  },
  "language_info": {
   "codemirror_mode": {
    "name": "ipython",
    "version": 2
   },
   "file_extension": ".py",
   "mimetype": "text/x-python",
   "name": "python",
   "nbconvert_exporter": "python",
   "pygments_lexer": "ipython2",
   "version": "2.7.6"
  }
 },
 "nbformat": 4,
 "nbformat_minor": 0
}