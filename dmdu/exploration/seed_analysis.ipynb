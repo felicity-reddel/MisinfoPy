{
 "cells": [
  {
   "cell_type": "markdown",
   "source": [
    "# Seed analysis\n",
    "Here, the data gathered for the inspecting the model's sensitivity to stochastics will be analyzed."
   ],
   "metadata": {
    "collapsed": false,
    "pycharm": {
     "name": "#%% md\n"
    }
   }
  },
  {
   "cell_type": "code",
   "execution_count": 1,
   "outputs": [],
   "source": [
    "import pandas as pd\n",
    "import os\n",
    "from model.enums import BeliefUpdate\n",
    "from dmdu.utils_dmdu import make_sure_path_exists, calculate_quantiles"
   ],
   "metadata": {
    "collapsed": false,
    "pycharm": {
     "name": "#%%\n"
    }
   }
  },
  {
   "cell_type": "code",
   "execution_count": 2,
   "outputs": [],
   "source": [
    "# Parameters\n",
    "considered_quantiles = [0.1, 0.25, 0.5, 0.75, 0.9]\n",
    "belief_update_fns = [BeliefUpdate.SIT]  # TODO: When data for all bufns: delete this line\n"
   ],
   "metadata": {
    "collapsed": false,
    "pycharm": {
     "name": "#%%\n"
    }
   }
  },
  {
   "cell_type": "code",
   "execution_count": 3,
   "outputs": [],
   "source": [
    "# Quantile Data // calculate it and save it\n",
    "for belief_update_fn in belief_update_fns:  # TODO: When data for all bufns: belief_update_fns -> list(BeliefUpdate)\n",
    "    # Loading data\n",
    "    path = dir_path = os.path.join(os.getcwd(), 'data', 'seedanalysis', belief_update_fn.name, 'outcomes.csv')\n",
    "    outcomes = pd.read_csv(path)\n",
    "    outcomes = outcomes.rename(columns={'Unnamed: 0': 'uncert_sample'})\n",
    "    outcome_names = [o for o in outcomes.columns if o not in ['uncert_sample', 'seed']]\n",
    "\n",
    "    for outcome in outcome_names:\n",
    "        quantile_data = calculate_quantiles(outcomes_data=outcomes, outcome=outcome, quantiles=considered_quantiles)\n",
    "\n",
    "        # Save resulting data into csv\n",
    "        dir_path = os.path.join(os.getcwd(), 'data', 'seedanalysis', belief_update_fn.name, 'quantiles')\n",
    "        make_sure_path_exists(dir_path)\n",
    "        file_name = str(outcome) + '.csv'\n",
    "        path = os.path.join(dir_path, file_name)\n",
    "        quantile_data.to_csv(path)\n"
   ],
   "metadata": {
    "collapsed": false,
    "pycharm": {
     "name": "#%%\n"
    }
   }
  },
  {
   "cell_type": "code",
   "execution_count": 11,
   "outputs": [],
   "source": [
    "# TODO: Plotting of the data\n",
    "# - read-in the right data from the right files\n",
    "# - combine the data as needed\n",
    "#       - quartiles: median and interquartile range\n",
    "#           1 plot per objective, incl. for each bufn median line and interquartile envelope\n",
    "#       - 10-and-90%ile?"
   ],
   "metadata": {
    "collapsed": false,
    "pycharm": {
     "name": "#%%\n"
    }
   }
  }
 ],
 "metadata": {
  "kernelspec": {
   "display_name": "Python 3",
   "language": "python",
   "name": "python3"
  },
  "language_info": {
   "codemirror_mode": {
    "name": "ipython",
    "version": 2
   },
   "file_extension": ".py",
   "mimetype": "text/x-python",
   "name": "python",
   "nbconvert_exporter": "python",
   "pygments_lexer": "ipython2",
   "version": "2.7.6"
  }
 },
 "nbformat": 4,
 "nbformat_minor": 0
}