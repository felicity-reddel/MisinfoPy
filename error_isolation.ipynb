{
 "cells": [
  {
   "cell_type": "code",
   "execution_count": 1,
   "outputs": [],
   "source": [
    "import pandas as pd\n",
    "from model.misinfo_model import MisinfoPy"
   ],
   "metadata": {
    "collapsed": false,
    "pycharm": {
     "name": "#%%\n"
    }
   }
  },
  {
   "cell_type": "code",
   "execution_count": 2,
   "outputs": [
    {
     "name": "stdout",
     "output_type": "stream",
     "text": [
      "0 0\n",
      "1 10\n",
      "2 20\n",
      "3 30\n",
      "4 40\n",
      "5 50\n",
      "6 60\n",
      "7 70\n",
      "8 80\n",
      "9 90\n",
      "10 100\n"
     ]
    }
   ],
   "source": [
    "mapping = {v: v*10 for v in range(11)}\n",
    "for k, v in mapping.items():\n",
    "    print(k,v)"
   ],
   "metadata": {
    "collapsed": false,
    "pycharm": {
     "name": "#%%\n"
    }
   }
  },
  {
   "cell_type": "code",
   "execution_count": 3,
   "outputs": [],
   "source": [
    "# checking data from full_factorial test\n",
    "\n",
    "from ema_workbench.analysis import parcoords\n",
    "import pandas as pd\n",
    "from ema_workbench import load_results\n",
    "import seaborn as sns\n",
    "import os\n"
   ],
   "metadata": {
    "collapsed": false,
    "pycharm": {
     "name": "#%%\n"
    }
   }
  },
  {
   "cell_type": "code",
   "execution_count": 4,
   "outputs": [],
   "source": [
    "target_dir = os.path.join(os.getcwd(), 'dmdu', 'exploration', 'data', 'full_factorial_2_replications_DEFFUANT')\n",
    "results = load_results(target_dir)\n",
    "exp, out = results"
   ],
   "metadata": {
    "collapsed": false,
    "pycharm": {
     "name": "#%%\n"
    }
   }
  },
  {
   "cell_type": "code",
   "execution_count": 5,
   "outputs": [
    {
     "data": {
      "text/plain": "    belief_metric_threshold  n_edges  ratio_normal_user  mean_normal_user  \\\n0                        80        3           0.993085                 0   \n1                        80        3           0.993085                 0   \n2                        80        3           0.993085                 0   \n3                        80        3           0.993085                 0   \n4                        80        3           0.993085                 0   \n5                        80        3           0.993085                 0   \n6                        80        3           0.993085                 0   \n7                        80        3           0.993085                 0   \n8                        80        3           0.993085                 0   \n9                        80        3           0.993085                 0   \n10                       80        3           0.993085                 0   \n11                       80        3           0.993085                 0   \n12                       80        3           0.993085                 0   \n13                       80        3           0.993085                 0   \n14                       80        3           0.993085                 0   \n15                       80        3           0.993085                 0   \n16                       80        3           0.993085                 0   \n17                       80        3           0.993085                 0   \n18                       80        3           0.993085                 0   \n19                       80        3           0.993085                 0   \n20                       80        3           0.993085                 0   \n21                       80        3           0.993085                 0   \n22                       80        3           0.993085                 0   \n23                       80        3           0.993085                 0   \n24                       80        3           0.993085                 0   \n25                       80        3           0.993085                 0   \n26                       80        3           0.993085                 0   \n27                       80        3           0.993085                 0   \n28                       80        3           0.993085                 0   \n29                       80        3           0.993085                 0   \n30                       80        3           0.993085                 0   \n31                       80        3           0.993085                 0   \n\n    mean_disinformer  high_media_lit  deffuant_mu  sampling_p_update  \\\n0                  8        0.285126     0.018566           0.027595   \n1                  8        0.285126     0.018566           0.027595   \n2                  8        0.285126     0.018566           0.027595   \n3                  8        0.285126     0.018566           0.027595   \n4                  8        0.285126     0.018566           0.027595   \n5                  8        0.285126     0.018566           0.027595   \n6                  8        0.285126     0.018566           0.027595   \n7                  8        0.285126     0.018566           0.027595   \n8                  8        0.285126     0.018566           0.027595   \n9                  8        0.285126     0.018566           0.027595   \n10                 8        0.285126     0.018566           0.027595   \n11                 8        0.285126     0.018566           0.027595   \n12                 8        0.285126     0.018566           0.027595   \n13                 8        0.285126     0.018566           0.027595   \n14                 8        0.285126     0.018566           0.027595   \n15                 8        0.285126     0.018566           0.027595   \n16                 8        0.285126     0.018566           0.027595   \n17                 8        0.285126     0.018566           0.027595   \n18                 8        0.285126     0.018566           0.027595   \n19                 8        0.285126     0.018566           0.027595   \n20                 8        0.285126     0.018566           0.027595   \n21                 8        0.285126     0.018566           0.027595   \n22                 8        0.285126     0.018566           0.027595   \n23                 8        0.285126     0.018566           0.027595   \n24                 8        0.285126     0.018566           0.027595   \n25                 8        0.285126     0.018566           0.027595   \n26                 8        0.285126     0.018566           0.027595   \n27                 8        0.285126     0.018566           0.027595   \n28                 8        0.285126     0.018566           0.027595   \n29                 8        0.285126     0.018566           0.027595   \n30                 8        0.285126     0.018566           0.027595   \n31                 8        0.285126     0.018566           0.027595   \n\n    n_posts_estimate_similarity  del_t  mlit_select  rank_punish  rank_t  \\\n0                             5      0            0            0       0   \n1                             5      0            0            0       0   \n2                             5      0            0            0       1   \n3                             5      0            0            0       1   \n4                             5      0            0            1       0   \n5                             5      0            0            1       0   \n6                             5      0            0            1       1   \n7                             5      0            0            1       1   \n8                             5      0            1            0       0   \n9                             5      0            1            0       0   \n10                            5      0            1            0       1   \n11                            5      0            1            0       1   \n12                            5      0            1            1       0   \n13                            5      0            1            1       0   \n14                            5      0            1            1       1   \n15                            5      0            1            1       1   \n16                            5      1            0            0       0   \n17                            5      1            0            0       0   \n18                            5      1            0            0       1   \n19                            5      1            0            0       1   \n20                            5      1            0            1       0   \n21                            5      1            0            1       0   \n22                            5      1            0            1       1   \n23                            5      1            0            1       1   \n24                            5      1            1            0       0   \n25                            5      1            1            0       0   \n26                            5      1            1            0       1   \n27                            5      1            1            0       1   \n28                            5      1            1            1       0   \n29                            5      1            1            1       0   \n30                            5      1            1            1       1   \n31                            5      1            1            1       1   \n\n    strikes_t   scenario policy      model  \n0           0  reference      0  MisinfoPy  \n1           1  reference      1  MisinfoPy  \n2           0  reference      2  MisinfoPy  \n3           1  reference      3  MisinfoPy  \n4           0  reference      4  MisinfoPy  \n5           1  reference      5  MisinfoPy  \n6           0  reference      6  MisinfoPy  \n7           1  reference      7  MisinfoPy  \n8           0  reference      8  MisinfoPy  \n9           1  reference      9  MisinfoPy  \n10          0  reference     10  MisinfoPy  \n11          1  reference     11  MisinfoPy  \n12          0  reference     12  MisinfoPy  \n13          1  reference     13  MisinfoPy  \n14          0  reference     14  MisinfoPy  \n15          1  reference     15  MisinfoPy  \n16          0  reference     16  MisinfoPy  \n17          1  reference     17  MisinfoPy  \n18          0  reference     18  MisinfoPy  \n19          1  reference     19  MisinfoPy  \n20          0  reference     20  MisinfoPy  \n21          1  reference     21  MisinfoPy  \n22          0  reference     22  MisinfoPy  \n23          1  reference     23  MisinfoPy  \n24          0  reference     24  MisinfoPy  \n25          1  reference     25  MisinfoPy  \n26          0  reference     26  MisinfoPy  \n27          1  reference     27  MisinfoPy  \n28          0  reference     28  MisinfoPy  \n29          1  reference     29  MisinfoPy  \n30          0  reference     30  MisinfoPy  \n31          1  reference     31  MisinfoPy  ",
      "text/html": "<div>\n<style scoped>\n    .dataframe tbody tr th:only-of-type {\n        vertical-align: middle;\n    }\n\n    .dataframe tbody tr th {\n        vertical-align: top;\n    }\n\n    .dataframe thead th {\n        text-align: right;\n    }\n</style>\n<table border=\"1\" class=\"dataframe\">\n  <thead>\n    <tr style=\"text-align: right;\">\n      <th></th>\n      <th>belief_metric_threshold</th>\n      <th>n_edges</th>\n      <th>ratio_normal_user</th>\n      <th>mean_normal_user</th>\n      <th>mean_disinformer</th>\n      <th>high_media_lit</th>\n      <th>deffuant_mu</th>\n      <th>sampling_p_update</th>\n      <th>n_posts_estimate_similarity</th>\n      <th>del_t</th>\n      <th>mlit_select</th>\n      <th>rank_punish</th>\n      <th>rank_t</th>\n      <th>strikes_t</th>\n      <th>scenario</th>\n      <th>policy</th>\n      <th>model</th>\n    </tr>\n  </thead>\n  <tbody>\n    <tr>\n      <th>0</th>\n      <td>80</td>\n      <td>3</td>\n      <td>0.993085</td>\n      <td>0</td>\n      <td>8</td>\n      <td>0.285126</td>\n      <td>0.018566</td>\n      <td>0.027595</td>\n      <td>5</td>\n      <td>0</td>\n      <td>0</td>\n      <td>0</td>\n      <td>0</td>\n      <td>0</td>\n      <td>reference</td>\n      <td>0</td>\n      <td>MisinfoPy</td>\n    </tr>\n    <tr>\n      <th>1</th>\n      <td>80</td>\n      <td>3</td>\n      <td>0.993085</td>\n      <td>0</td>\n      <td>8</td>\n      <td>0.285126</td>\n      <td>0.018566</td>\n      <td>0.027595</td>\n      <td>5</td>\n      <td>0</td>\n      <td>0</td>\n      <td>0</td>\n      <td>0</td>\n      <td>1</td>\n      <td>reference</td>\n      <td>1</td>\n      <td>MisinfoPy</td>\n    </tr>\n    <tr>\n      <th>2</th>\n      <td>80</td>\n      <td>3</td>\n      <td>0.993085</td>\n      <td>0</td>\n      <td>8</td>\n      <td>0.285126</td>\n      <td>0.018566</td>\n      <td>0.027595</td>\n      <td>5</td>\n      <td>0</td>\n      <td>0</td>\n      <td>0</td>\n      <td>1</td>\n      <td>0</td>\n      <td>reference</td>\n      <td>2</td>\n      <td>MisinfoPy</td>\n    </tr>\n    <tr>\n      <th>3</th>\n      <td>80</td>\n      <td>3</td>\n      <td>0.993085</td>\n      <td>0</td>\n      <td>8</td>\n      <td>0.285126</td>\n      <td>0.018566</td>\n      <td>0.027595</td>\n      <td>5</td>\n      <td>0</td>\n      <td>0</td>\n      <td>0</td>\n      <td>1</td>\n      <td>1</td>\n      <td>reference</td>\n      <td>3</td>\n      <td>MisinfoPy</td>\n    </tr>\n    <tr>\n      <th>4</th>\n      <td>80</td>\n      <td>3</td>\n      <td>0.993085</td>\n      <td>0</td>\n      <td>8</td>\n      <td>0.285126</td>\n      <td>0.018566</td>\n      <td>0.027595</td>\n      <td>5</td>\n      <td>0</td>\n      <td>0</td>\n      <td>1</td>\n      <td>0</td>\n      <td>0</td>\n      <td>reference</td>\n      <td>4</td>\n      <td>MisinfoPy</td>\n    </tr>\n    <tr>\n      <th>5</th>\n      <td>80</td>\n      <td>3</td>\n      <td>0.993085</td>\n      <td>0</td>\n      <td>8</td>\n      <td>0.285126</td>\n      <td>0.018566</td>\n      <td>0.027595</td>\n      <td>5</td>\n      <td>0</td>\n      <td>0</td>\n      <td>1</td>\n      <td>0</td>\n      <td>1</td>\n      <td>reference</td>\n      <td>5</td>\n      <td>MisinfoPy</td>\n    </tr>\n    <tr>\n      <th>6</th>\n      <td>80</td>\n      <td>3</td>\n      <td>0.993085</td>\n      <td>0</td>\n      <td>8</td>\n      <td>0.285126</td>\n      <td>0.018566</td>\n      <td>0.027595</td>\n      <td>5</td>\n      <td>0</td>\n      <td>0</td>\n      <td>1</td>\n      <td>1</td>\n      <td>0</td>\n      <td>reference</td>\n      <td>6</td>\n      <td>MisinfoPy</td>\n    </tr>\n    <tr>\n      <th>7</th>\n      <td>80</td>\n      <td>3</td>\n      <td>0.993085</td>\n      <td>0</td>\n      <td>8</td>\n      <td>0.285126</td>\n      <td>0.018566</td>\n      <td>0.027595</td>\n      <td>5</td>\n      <td>0</td>\n      <td>0</td>\n      <td>1</td>\n      <td>1</td>\n      <td>1</td>\n      <td>reference</td>\n      <td>7</td>\n      <td>MisinfoPy</td>\n    </tr>\n    <tr>\n      <th>8</th>\n      <td>80</td>\n      <td>3</td>\n      <td>0.993085</td>\n      <td>0</td>\n      <td>8</td>\n      <td>0.285126</td>\n      <td>0.018566</td>\n      <td>0.027595</td>\n      <td>5</td>\n      <td>0</td>\n      <td>1</td>\n      <td>0</td>\n      <td>0</td>\n      <td>0</td>\n      <td>reference</td>\n      <td>8</td>\n      <td>MisinfoPy</td>\n    </tr>\n    <tr>\n      <th>9</th>\n      <td>80</td>\n      <td>3</td>\n      <td>0.993085</td>\n      <td>0</td>\n      <td>8</td>\n      <td>0.285126</td>\n      <td>0.018566</td>\n      <td>0.027595</td>\n      <td>5</td>\n      <td>0</td>\n      <td>1</td>\n      <td>0</td>\n      <td>0</td>\n      <td>1</td>\n      <td>reference</td>\n      <td>9</td>\n      <td>MisinfoPy</td>\n    </tr>\n    <tr>\n      <th>10</th>\n      <td>80</td>\n      <td>3</td>\n      <td>0.993085</td>\n      <td>0</td>\n      <td>8</td>\n      <td>0.285126</td>\n      <td>0.018566</td>\n      <td>0.027595</td>\n      <td>5</td>\n      <td>0</td>\n      <td>1</td>\n      <td>0</td>\n      <td>1</td>\n      <td>0</td>\n      <td>reference</td>\n      <td>10</td>\n      <td>MisinfoPy</td>\n    </tr>\n    <tr>\n      <th>11</th>\n      <td>80</td>\n      <td>3</td>\n      <td>0.993085</td>\n      <td>0</td>\n      <td>8</td>\n      <td>0.285126</td>\n      <td>0.018566</td>\n      <td>0.027595</td>\n      <td>5</td>\n      <td>0</td>\n      <td>1</td>\n      <td>0</td>\n      <td>1</td>\n      <td>1</td>\n      <td>reference</td>\n      <td>11</td>\n      <td>MisinfoPy</td>\n    </tr>\n    <tr>\n      <th>12</th>\n      <td>80</td>\n      <td>3</td>\n      <td>0.993085</td>\n      <td>0</td>\n      <td>8</td>\n      <td>0.285126</td>\n      <td>0.018566</td>\n      <td>0.027595</td>\n      <td>5</td>\n      <td>0</td>\n      <td>1</td>\n      <td>1</td>\n      <td>0</td>\n      <td>0</td>\n      <td>reference</td>\n      <td>12</td>\n      <td>MisinfoPy</td>\n    </tr>\n    <tr>\n      <th>13</th>\n      <td>80</td>\n      <td>3</td>\n      <td>0.993085</td>\n      <td>0</td>\n      <td>8</td>\n      <td>0.285126</td>\n      <td>0.018566</td>\n      <td>0.027595</td>\n      <td>5</td>\n      <td>0</td>\n      <td>1</td>\n      <td>1</td>\n      <td>0</td>\n      <td>1</td>\n      <td>reference</td>\n      <td>13</td>\n      <td>MisinfoPy</td>\n    </tr>\n    <tr>\n      <th>14</th>\n      <td>80</td>\n      <td>3</td>\n      <td>0.993085</td>\n      <td>0</td>\n      <td>8</td>\n      <td>0.285126</td>\n      <td>0.018566</td>\n      <td>0.027595</td>\n      <td>5</td>\n      <td>0</td>\n      <td>1</td>\n      <td>1</td>\n      <td>1</td>\n      <td>0</td>\n      <td>reference</td>\n      <td>14</td>\n      <td>MisinfoPy</td>\n    </tr>\n    <tr>\n      <th>15</th>\n      <td>80</td>\n      <td>3</td>\n      <td>0.993085</td>\n      <td>0</td>\n      <td>8</td>\n      <td>0.285126</td>\n      <td>0.018566</td>\n      <td>0.027595</td>\n      <td>5</td>\n      <td>0</td>\n      <td>1</td>\n      <td>1</td>\n      <td>1</td>\n      <td>1</td>\n      <td>reference</td>\n      <td>15</td>\n      <td>MisinfoPy</td>\n    </tr>\n    <tr>\n      <th>16</th>\n      <td>80</td>\n      <td>3</td>\n      <td>0.993085</td>\n      <td>0</td>\n      <td>8</td>\n      <td>0.285126</td>\n      <td>0.018566</td>\n      <td>0.027595</td>\n      <td>5</td>\n      <td>1</td>\n      <td>0</td>\n      <td>0</td>\n      <td>0</td>\n      <td>0</td>\n      <td>reference</td>\n      <td>16</td>\n      <td>MisinfoPy</td>\n    </tr>\n    <tr>\n      <th>17</th>\n      <td>80</td>\n      <td>3</td>\n      <td>0.993085</td>\n      <td>0</td>\n      <td>8</td>\n      <td>0.285126</td>\n      <td>0.018566</td>\n      <td>0.027595</td>\n      <td>5</td>\n      <td>1</td>\n      <td>0</td>\n      <td>0</td>\n      <td>0</td>\n      <td>1</td>\n      <td>reference</td>\n      <td>17</td>\n      <td>MisinfoPy</td>\n    </tr>\n    <tr>\n      <th>18</th>\n      <td>80</td>\n      <td>3</td>\n      <td>0.993085</td>\n      <td>0</td>\n      <td>8</td>\n      <td>0.285126</td>\n      <td>0.018566</td>\n      <td>0.027595</td>\n      <td>5</td>\n      <td>1</td>\n      <td>0</td>\n      <td>0</td>\n      <td>1</td>\n      <td>0</td>\n      <td>reference</td>\n      <td>18</td>\n      <td>MisinfoPy</td>\n    </tr>\n    <tr>\n      <th>19</th>\n      <td>80</td>\n      <td>3</td>\n      <td>0.993085</td>\n      <td>0</td>\n      <td>8</td>\n      <td>0.285126</td>\n      <td>0.018566</td>\n      <td>0.027595</td>\n      <td>5</td>\n      <td>1</td>\n      <td>0</td>\n      <td>0</td>\n      <td>1</td>\n      <td>1</td>\n      <td>reference</td>\n      <td>19</td>\n      <td>MisinfoPy</td>\n    </tr>\n    <tr>\n      <th>20</th>\n      <td>80</td>\n      <td>3</td>\n      <td>0.993085</td>\n      <td>0</td>\n      <td>8</td>\n      <td>0.285126</td>\n      <td>0.018566</td>\n      <td>0.027595</td>\n      <td>5</td>\n      <td>1</td>\n      <td>0</td>\n      <td>1</td>\n      <td>0</td>\n      <td>0</td>\n      <td>reference</td>\n      <td>20</td>\n      <td>MisinfoPy</td>\n    </tr>\n    <tr>\n      <th>21</th>\n      <td>80</td>\n      <td>3</td>\n      <td>0.993085</td>\n      <td>0</td>\n      <td>8</td>\n      <td>0.285126</td>\n      <td>0.018566</td>\n      <td>0.027595</td>\n      <td>5</td>\n      <td>1</td>\n      <td>0</td>\n      <td>1</td>\n      <td>0</td>\n      <td>1</td>\n      <td>reference</td>\n      <td>21</td>\n      <td>MisinfoPy</td>\n    </tr>\n    <tr>\n      <th>22</th>\n      <td>80</td>\n      <td>3</td>\n      <td>0.993085</td>\n      <td>0</td>\n      <td>8</td>\n      <td>0.285126</td>\n      <td>0.018566</td>\n      <td>0.027595</td>\n      <td>5</td>\n      <td>1</td>\n      <td>0</td>\n      <td>1</td>\n      <td>1</td>\n      <td>0</td>\n      <td>reference</td>\n      <td>22</td>\n      <td>MisinfoPy</td>\n    </tr>\n    <tr>\n      <th>23</th>\n      <td>80</td>\n      <td>3</td>\n      <td>0.993085</td>\n      <td>0</td>\n      <td>8</td>\n      <td>0.285126</td>\n      <td>0.018566</td>\n      <td>0.027595</td>\n      <td>5</td>\n      <td>1</td>\n      <td>0</td>\n      <td>1</td>\n      <td>1</td>\n      <td>1</td>\n      <td>reference</td>\n      <td>23</td>\n      <td>MisinfoPy</td>\n    </tr>\n    <tr>\n      <th>24</th>\n      <td>80</td>\n      <td>3</td>\n      <td>0.993085</td>\n      <td>0</td>\n      <td>8</td>\n      <td>0.285126</td>\n      <td>0.018566</td>\n      <td>0.027595</td>\n      <td>5</td>\n      <td>1</td>\n      <td>1</td>\n      <td>0</td>\n      <td>0</td>\n      <td>0</td>\n      <td>reference</td>\n      <td>24</td>\n      <td>MisinfoPy</td>\n    </tr>\n    <tr>\n      <th>25</th>\n      <td>80</td>\n      <td>3</td>\n      <td>0.993085</td>\n      <td>0</td>\n      <td>8</td>\n      <td>0.285126</td>\n      <td>0.018566</td>\n      <td>0.027595</td>\n      <td>5</td>\n      <td>1</td>\n      <td>1</td>\n      <td>0</td>\n      <td>0</td>\n      <td>1</td>\n      <td>reference</td>\n      <td>25</td>\n      <td>MisinfoPy</td>\n    </tr>\n    <tr>\n      <th>26</th>\n      <td>80</td>\n      <td>3</td>\n      <td>0.993085</td>\n      <td>0</td>\n      <td>8</td>\n      <td>0.285126</td>\n      <td>0.018566</td>\n      <td>0.027595</td>\n      <td>5</td>\n      <td>1</td>\n      <td>1</td>\n      <td>0</td>\n      <td>1</td>\n      <td>0</td>\n      <td>reference</td>\n      <td>26</td>\n      <td>MisinfoPy</td>\n    </tr>\n    <tr>\n      <th>27</th>\n      <td>80</td>\n      <td>3</td>\n      <td>0.993085</td>\n      <td>0</td>\n      <td>8</td>\n      <td>0.285126</td>\n      <td>0.018566</td>\n      <td>0.027595</td>\n      <td>5</td>\n      <td>1</td>\n      <td>1</td>\n      <td>0</td>\n      <td>1</td>\n      <td>1</td>\n      <td>reference</td>\n      <td>27</td>\n      <td>MisinfoPy</td>\n    </tr>\n    <tr>\n      <th>28</th>\n      <td>80</td>\n      <td>3</td>\n      <td>0.993085</td>\n      <td>0</td>\n      <td>8</td>\n      <td>0.285126</td>\n      <td>0.018566</td>\n      <td>0.027595</td>\n      <td>5</td>\n      <td>1</td>\n      <td>1</td>\n      <td>1</td>\n      <td>0</td>\n      <td>0</td>\n      <td>reference</td>\n      <td>28</td>\n      <td>MisinfoPy</td>\n    </tr>\n    <tr>\n      <th>29</th>\n      <td>80</td>\n      <td>3</td>\n      <td>0.993085</td>\n      <td>0</td>\n      <td>8</td>\n      <td>0.285126</td>\n      <td>0.018566</td>\n      <td>0.027595</td>\n      <td>5</td>\n      <td>1</td>\n      <td>1</td>\n      <td>1</td>\n      <td>0</td>\n      <td>1</td>\n      <td>reference</td>\n      <td>29</td>\n      <td>MisinfoPy</td>\n    </tr>\n    <tr>\n      <th>30</th>\n      <td>80</td>\n      <td>3</td>\n      <td>0.993085</td>\n      <td>0</td>\n      <td>8</td>\n      <td>0.285126</td>\n      <td>0.018566</td>\n      <td>0.027595</td>\n      <td>5</td>\n      <td>1</td>\n      <td>1</td>\n      <td>1</td>\n      <td>1</td>\n      <td>0</td>\n      <td>reference</td>\n      <td>30</td>\n      <td>MisinfoPy</td>\n    </tr>\n    <tr>\n      <th>31</th>\n      <td>80</td>\n      <td>3</td>\n      <td>0.993085</td>\n      <td>0</td>\n      <td>8</td>\n      <td>0.285126</td>\n      <td>0.018566</td>\n      <td>0.027595</td>\n      <td>5</td>\n      <td>1</td>\n      <td>1</td>\n      <td>1</td>\n      <td>1</td>\n      <td>1</td>\n      <td>reference</td>\n      <td>31</td>\n      <td>MisinfoPy</td>\n    </tr>\n  </tbody>\n</table>\n</div>"
     },
     "execution_count": 5,
     "metadata": {},
     "output_type": "execute_result"
    }
   ],
   "source": [
    "exp"
   ],
   "metadata": {
    "collapsed": false,
    "pycharm": {
     "name": "#%%\n"
    }
   }
  },
  {
   "cell_type": "code",
   "execution_count": 6,
   "outputs": [
    {
     "data": {
      "text/plain": "{'n_agents_above_belief_threshold': array([[475., 490.],\n        [477., 494.],\n        [475., 490.],\n        [477., 494.],\n        [475., 490.],\n        [477., 494.],\n        [489., 486.],\n        [491., 497.],\n        [475., 490.],\n        [477., 494.],\n        [475., 490.],\n        [477., 494.],\n        [475., 490.],\n        [477., 494.],\n        [489., 486.],\n        [491., 497.],\n        [475., 489.],\n        [476., 494.],\n        [475., 489.],\n        [476., 494.],\n        [475., 489.],\n        [476., 494.],\n        [485., 486.],\n        [491., 497.],\n        [475., 489.],\n        [476., 494.],\n        [475., 489.],\n        [476., 494.],\n        [475., 489.],\n        [476., 494.],\n        [485., 486.],\n        [491., 497.]]),\n 'polarization_variance': array([[677.18, 635.87],\n        [686.35, 646.29],\n        [677.18, 635.87],\n        [686.35, 646.29],\n        [677.18, 635.87],\n        [686.35, 646.29],\n        [694.12, 648.41],\n        [689.98, 649.92],\n        [677.18, 635.87],\n        [686.35, 646.29],\n        [677.18, 635.87],\n        [686.35, 646.29],\n        [677.18, 635.87],\n        [686.35, 646.29],\n        [694.12, 648.41],\n        [689.98, 649.92],\n        [677.18, 637.32],\n        [685.23, 646.29],\n        [677.18, 637.32],\n        [685.23, 646.29],\n        [677.18, 637.32],\n        [685.23, 646.29],\n        [693.75, 648.41],\n        [689.98, 649.92],\n        [677.18, 637.32],\n        [685.23, 646.29],\n        [677.18, 637.32],\n        [685.23, 646.29],\n        [677.18, 637.32],\n        [685.23, 646.29],\n        [693.75, 648.41],\n        [689.98, 649.92]]),\n 'engagement': array([[11.427, 10.773],\n        [10.764, 10.27 ],\n        [11.427, 10.773],\n        [10.764, 10.27 ],\n        [11.427, 10.773],\n        [10.764, 10.27 ],\n        [10.311,  9.729],\n        [10.418,  9.469],\n        [11.427, 10.773],\n        [10.764, 10.27 ],\n        [11.427, 10.773],\n        [10.764, 10.27 ],\n        [11.427, 10.773],\n        [10.764, 10.27 ],\n        [10.311,  9.729],\n        [10.418,  9.469],\n        [11.427, 10.776],\n        [10.81 , 10.27 ],\n        [11.427, 10.776],\n        [10.81 , 10.27 ],\n        [11.427, 10.776],\n        [10.81 , 10.27 ],\n        [10.244,  9.729],\n        [10.418,  9.469],\n        [11.427, 10.776],\n        [10.81 , 10.27 ],\n        [11.427, 10.776],\n        [10.81 , 10.27 ],\n        [11.427, 10.776],\n        [10.81 , 10.27 ],\n        [10.244,  9.729],\n        [10.418,  9.469]]),\n 'free_speech_constraint': array([[0.02288188, 0.02345005],\n        [0.06032625, 0.04407444],\n        [0.02288188, 0.02345005],\n        [0.06032625, 0.04407444],\n        [0.02424242, 0.02441375],\n        [0.06131117, 0.04498857],\n        [0.03835103, 0.03322724],\n        [0.06752084, 0.05393112],\n        [0.02288188, 0.02345005],\n        [0.06032625, 0.04407444],\n        [0.02288188, 0.02345005],\n        [0.06032625, 0.04407444],\n        [0.02424242, 0.02441375],\n        [0.06131117, 0.04498857],\n        [0.03835103, 0.03322724],\n        [0.06752084, 0.05393112],\n        [0.02288188, 0.02377128],\n        [0.05689278, 0.04407444],\n        [0.02288188, 0.02377128],\n        [0.05689278, 0.04407444],\n        [0.02424242, 0.02473498],\n        [0.05792435, 0.04498857],\n        [0.04082711, 0.03322724],\n        [0.06752084, 0.05393112],\n        [0.02288188, 0.02377128],\n        [0.05689278, 0.04407444],\n        [0.02288188, 0.02377128],\n        [0.05689278, 0.04407444],\n        [0.02424242, 0.02473498],\n        [0.05792435, 0.04498857],\n        [0.04082711, 0.03322724],\n        [0.06752084, 0.05393112]]),\n 'avg_user_effort': array([[1.83, 1.81],\n        [1.69, 1.74],\n        [1.83, 1.81],\n        [1.69, 1.74],\n        [1.83, 1.81],\n        [1.69, 1.74],\n        [1.64, 1.64],\n        [1.64, 1.59],\n        [1.83, 1.81],\n        [1.69, 1.74],\n        [1.83, 1.81],\n        [1.69, 1.74],\n        [1.83, 1.81],\n        [1.69, 1.74],\n        [1.64, 1.64],\n        [1.64, 1.59],\n        [1.83, 1.81],\n        [1.69, 1.74],\n        [1.83, 1.81],\n        [1.69, 1.74],\n        [1.83, 1.81],\n        [1.69, 1.74],\n        [1.63, 1.64],\n        [1.64, 1.59],\n        [1.83, 1.81],\n        [1.69, 1.74],\n        [1.83, 1.81],\n        [1.69, 1.74],\n        [1.83, 1.81],\n        [1.69, 1.74],\n        [1.63, 1.64],\n        [1.64, 1.59]])}"
     },
     "execution_count": 6,
     "metadata": {},
     "output_type": "execute_result"
    }
   ],
   "source": [
    "# out = pd.DataFrame(out)\n",
    "out"
   ],
   "metadata": {
    "collapsed": false,
    "pycharm": {
     "name": "#%%\n"
    }
   }
  },
  {
   "cell_type": "code",
   "execution_count": 10,
   "outputs": [],
   "source": [
    "# TODO: MAKE FN\n",
    "\n",
    "out_avg_over_replications = {}\n",
    "\n",
    "for k, v in out.items():\n",
    "    avgs = []\n",
    "    for policy_out in v:\n",
    "        avg = sum(policy_out) / len(policy_out)\n",
    "        avgs.append(avg)\n",
    "\n",
    "    out_avg_over_replications[k] = avgs\n",
    "\n",
    "\n",
    "out_avg_over_replications = pd.DataFrame(data=out_avg_over_replications)"
   ],
   "metadata": {
    "collapsed": false,
    "pycharm": {
     "name": "#%%\n"
    }
   }
  },
  {
   "cell_type": "code",
   "execution_count": 11,
   "outputs": [
    {
     "data": {
      "text/plain": "    n_agents_above_belief_threshold  polarization_variance  engagement  \\\n0                             482.5                656.525     11.1000   \n1                             485.5                666.320     10.5170   \n2                             482.5                656.525     11.1000   \n3                             485.5                666.320     10.5170   \n4                             482.5                656.525     11.1000   \n5                             485.5                666.320     10.5170   \n6                             487.5                671.265     10.0200   \n7                             494.0                669.950      9.9435   \n8                             482.5                656.525     11.1000   \n9                             485.5                666.320     10.5170   \n10                            482.5                656.525     11.1000   \n11                            485.5                666.320     10.5170   \n12                            482.5                656.525     11.1000   \n13                            485.5                666.320     10.5170   \n14                            487.5                671.265     10.0200   \n15                            494.0                669.950      9.9435   \n16                            482.0                657.250     11.1015   \n17                            485.0                665.760     10.5400   \n18                            482.0                657.250     11.1015   \n19                            485.0                665.760     10.5400   \n20                            482.0                657.250     11.1015   \n21                            485.0                665.760     10.5400   \n22                            485.5                671.080      9.9865   \n23                            494.0                669.950      9.9435   \n24                            482.0                657.250     11.1015   \n25                            485.0                665.760     10.5400   \n26                            482.0                657.250     11.1015   \n27                            485.0                665.760     10.5400   \n28                            482.0                657.250     11.1015   \n29                            485.0                665.760     10.5400   \n30                            485.5                671.080      9.9865   \n31                            494.0                669.950      9.9435   \n\n    free_speech_constraint  avg_user_effort  \n0                 0.023166            1.820  \n1                 0.052200            1.715  \n2                 0.023166            1.820  \n3                 0.052200            1.715  \n4                 0.024328            1.820  \n5                 0.053150            1.715  \n6                 0.035789            1.640  \n7                 0.060726            1.615  \n8                 0.023166            1.820  \n9                 0.052200            1.715  \n10                0.023166            1.820  \n11                0.052200            1.715  \n12                0.024328            1.820  \n13                0.053150            1.715  \n14                0.035789            1.640  \n15                0.060726            1.615  \n16                0.023327            1.820  \n17                0.050484            1.715  \n18                0.023327            1.820  \n19                0.050484            1.715  \n20                0.024489            1.820  \n21                0.051456            1.715  \n22                0.037027            1.635  \n23                0.060726            1.615  \n24                0.023327            1.820  \n25                0.050484            1.715  \n26                0.023327            1.820  \n27                0.050484            1.715  \n28                0.024489            1.820  \n29                0.051456            1.715  \n30                0.037027            1.635  \n31                0.060726            1.615  ",
      "text/html": "<div>\n<style scoped>\n    .dataframe tbody tr th:only-of-type {\n        vertical-align: middle;\n    }\n\n    .dataframe tbody tr th {\n        vertical-align: top;\n    }\n\n    .dataframe thead th {\n        text-align: right;\n    }\n</style>\n<table border=\"1\" class=\"dataframe\">\n  <thead>\n    <tr style=\"text-align: right;\">\n      <th></th>\n      <th>n_agents_above_belief_threshold</th>\n      <th>polarization_variance</th>\n      <th>engagement</th>\n      <th>free_speech_constraint</th>\n      <th>avg_user_effort</th>\n    </tr>\n  </thead>\n  <tbody>\n    <tr>\n      <th>0</th>\n      <td>482.5</td>\n      <td>656.525</td>\n      <td>11.1000</td>\n      <td>0.023166</td>\n      <td>1.820</td>\n    </tr>\n    <tr>\n      <th>1</th>\n      <td>485.5</td>\n      <td>666.320</td>\n      <td>10.5170</td>\n      <td>0.052200</td>\n      <td>1.715</td>\n    </tr>\n    <tr>\n      <th>2</th>\n      <td>482.5</td>\n      <td>656.525</td>\n      <td>11.1000</td>\n      <td>0.023166</td>\n      <td>1.820</td>\n    </tr>\n    <tr>\n      <th>3</th>\n      <td>485.5</td>\n      <td>666.320</td>\n      <td>10.5170</td>\n      <td>0.052200</td>\n      <td>1.715</td>\n    </tr>\n    <tr>\n      <th>4</th>\n      <td>482.5</td>\n      <td>656.525</td>\n      <td>11.1000</td>\n      <td>0.024328</td>\n      <td>1.820</td>\n    </tr>\n    <tr>\n      <th>5</th>\n      <td>485.5</td>\n      <td>666.320</td>\n      <td>10.5170</td>\n      <td>0.053150</td>\n      <td>1.715</td>\n    </tr>\n    <tr>\n      <th>6</th>\n      <td>487.5</td>\n      <td>671.265</td>\n      <td>10.0200</td>\n      <td>0.035789</td>\n      <td>1.640</td>\n    </tr>\n    <tr>\n      <th>7</th>\n      <td>494.0</td>\n      <td>669.950</td>\n      <td>9.9435</td>\n      <td>0.060726</td>\n      <td>1.615</td>\n    </tr>\n    <tr>\n      <th>8</th>\n      <td>482.5</td>\n      <td>656.525</td>\n      <td>11.1000</td>\n      <td>0.023166</td>\n      <td>1.820</td>\n    </tr>\n    <tr>\n      <th>9</th>\n      <td>485.5</td>\n      <td>666.320</td>\n      <td>10.5170</td>\n      <td>0.052200</td>\n      <td>1.715</td>\n    </tr>\n    <tr>\n      <th>10</th>\n      <td>482.5</td>\n      <td>656.525</td>\n      <td>11.1000</td>\n      <td>0.023166</td>\n      <td>1.820</td>\n    </tr>\n    <tr>\n      <th>11</th>\n      <td>485.5</td>\n      <td>666.320</td>\n      <td>10.5170</td>\n      <td>0.052200</td>\n      <td>1.715</td>\n    </tr>\n    <tr>\n      <th>12</th>\n      <td>482.5</td>\n      <td>656.525</td>\n      <td>11.1000</td>\n      <td>0.024328</td>\n      <td>1.820</td>\n    </tr>\n    <tr>\n      <th>13</th>\n      <td>485.5</td>\n      <td>666.320</td>\n      <td>10.5170</td>\n      <td>0.053150</td>\n      <td>1.715</td>\n    </tr>\n    <tr>\n      <th>14</th>\n      <td>487.5</td>\n      <td>671.265</td>\n      <td>10.0200</td>\n      <td>0.035789</td>\n      <td>1.640</td>\n    </tr>\n    <tr>\n      <th>15</th>\n      <td>494.0</td>\n      <td>669.950</td>\n      <td>9.9435</td>\n      <td>0.060726</td>\n      <td>1.615</td>\n    </tr>\n    <tr>\n      <th>16</th>\n      <td>482.0</td>\n      <td>657.250</td>\n      <td>11.1015</td>\n      <td>0.023327</td>\n      <td>1.820</td>\n    </tr>\n    <tr>\n      <th>17</th>\n      <td>485.0</td>\n      <td>665.760</td>\n      <td>10.5400</td>\n      <td>0.050484</td>\n      <td>1.715</td>\n    </tr>\n    <tr>\n      <th>18</th>\n      <td>482.0</td>\n      <td>657.250</td>\n      <td>11.1015</td>\n      <td>0.023327</td>\n      <td>1.820</td>\n    </tr>\n    <tr>\n      <th>19</th>\n      <td>485.0</td>\n      <td>665.760</td>\n      <td>10.5400</td>\n      <td>0.050484</td>\n      <td>1.715</td>\n    </tr>\n    <tr>\n      <th>20</th>\n      <td>482.0</td>\n      <td>657.250</td>\n      <td>11.1015</td>\n      <td>0.024489</td>\n      <td>1.820</td>\n    </tr>\n    <tr>\n      <th>21</th>\n      <td>485.0</td>\n      <td>665.760</td>\n      <td>10.5400</td>\n      <td>0.051456</td>\n      <td>1.715</td>\n    </tr>\n    <tr>\n      <th>22</th>\n      <td>485.5</td>\n      <td>671.080</td>\n      <td>9.9865</td>\n      <td>0.037027</td>\n      <td>1.635</td>\n    </tr>\n    <tr>\n      <th>23</th>\n      <td>494.0</td>\n      <td>669.950</td>\n      <td>9.9435</td>\n      <td>0.060726</td>\n      <td>1.615</td>\n    </tr>\n    <tr>\n      <th>24</th>\n      <td>482.0</td>\n      <td>657.250</td>\n      <td>11.1015</td>\n      <td>0.023327</td>\n      <td>1.820</td>\n    </tr>\n    <tr>\n      <th>25</th>\n      <td>485.0</td>\n      <td>665.760</td>\n      <td>10.5400</td>\n      <td>0.050484</td>\n      <td>1.715</td>\n    </tr>\n    <tr>\n      <th>26</th>\n      <td>482.0</td>\n      <td>657.250</td>\n      <td>11.1015</td>\n      <td>0.023327</td>\n      <td>1.820</td>\n    </tr>\n    <tr>\n      <th>27</th>\n      <td>485.0</td>\n      <td>665.760</td>\n      <td>10.5400</td>\n      <td>0.050484</td>\n      <td>1.715</td>\n    </tr>\n    <tr>\n      <th>28</th>\n      <td>482.0</td>\n      <td>657.250</td>\n      <td>11.1015</td>\n      <td>0.024489</td>\n      <td>1.820</td>\n    </tr>\n    <tr>\n      <th>29</th>\n      <td>485.0</td>\n      <td>665.760</td>\n      <td>10.5400</td>\n      <td>0.051456</td>\n      <td>1.715</td>\n    </tr>\n    <tr>\n      <th>30</th>\n      <td>485.5</td>\n      <td>671.080</td>\n      <td>9.9865</td>\n      <td>0.037027</td>\n      <td>1.635</td>\n    </tr>\n    <tr>\n      <th>31</th>\n      <td>494.0</td>\n      <td>669.950</td>\n      <td>9.9435</td>\n      <td>0.060726</td>\n      <td>1.615</td>\n    </tr>\n  </tbody>\n</table>\n</div>"
     },
     "execution_count": 11,
     "metadata": {},
     "output_type": "execute_result"
    }
   ],
   "source": [
    "out_avg_over_replications\n"
   ],
   "metadata": {
    "collapsed": false,
    "pycharm": {
     "name": "#%%\n"
    }
   }
  },
  {
   "cell_type": "code",
   "execution_count": null,
   "outputs": [],
   "source": [],
   "metadata": {
    "collapsed": false,
    "pycharm": {
     "name": "#%%\n"
    }
   }
  }
 ],
 "metadata": {
  "kernelspec": {
   "display_name": "Python 3",
   "language": "python",
   "name": "python3"
  },
  "language_info": {
   "codemirror_mode": {
    "name": "ipython",
    "version": 2
   },
   "file_extension": ".py",
   "mimetype": "text/x-python",
   "name": "python",
   "nbconvert_exporter": "python",
   "pygments_lexer": "ipython2",
   "version": "2.7.6"
  }
 },
 "nbformat": 4,
 "nbformat_minor": 0
}